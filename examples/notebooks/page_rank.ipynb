
{
 "cells": [
      
   {
   "cell_type": "markdown",
   "metadata": {},
   "source": [
    " Computes the PageRank of URLs from an input file. Input file should\n",
    " be in format of:\n",
    " URL         neighbor URL\n",
    " URL         neighbor URL\n",
    " URL         neighbor URL\n",
    " ...\n",
    " where URL and their neighbors are separated by space(s).\n",
    "\n",
    " This is an example implementation for learning how to use Spark. For more conventional use,\n",
    " please refer to org.apache.spark.graphx.lib.PageRank\n",
    " @class\n"
   ]

  },
  {
   "cell_type": "code",
   "execution_count": 1,
   "metadata": {
    "collapsed": false
   },
   "outputs": [],
   "source": [
    "\n",
    "var filename =  \"..\/data\/pagerank_data.txt\";\n",
    "var iters =  10;\n"
   ]

  },
  {
   "cell_type": "code",
   "execution_count": 2,
   "metadata": {
    "collapsed": false
   },
   "outputs": [],
   "source": [
    "    var conf = new SparkConf().setAppName(\"JavaScript Page Rank\");\n",
    "    var sc = new SparkContext(conf);\n"
   ]

  },
   {
   "cell_type": "markdown",
   "metadata": {},
   "source": [
    " Loads in input file. It should be in format of:\n",
    "     URL         neighbor URL\n",
    "     URL         neighbor URL\n",
    "     URL         neighbor URL\n",
    "     ...\n"
   ]

  },
  {
   "cell_type": "code",
   "execution_count": 3,
   "metadata": {
    "collapsed": false
   },
   "outputs": [],
   "source": [
    "    var lines = sc.textFile(filename, 1);\n"
   ]

  },
   {
   "cell_type": "markdown",
   "metadata": {},
   "source": [
    " Loads all URLs from input file and initialize their neighbors.\n"
   ]

  },
  {
   "cell_type": "code",
   "execution_count": 4,
   "metadata": {
    "collapsed": false
   },
   "outputs": [],
   "source": [
    "    var links = lines.mapToPair(function (s) {\n",
    "        print(\" s \" + s)\n",
    "        var parts = s.split(\/\\s+\/);\n",
    "        return new Tuple(parts[0], parts[1]);\n",
    "    }).distinct().groupByKey().cache();\n"
   ]

  },
   {
   "cell_type": "markdown",
   "metadata": {},
   "source": [
    " Loads all URLs with other URL(s) link to from input file and initialize ranks of them to one.\n"
   ]

  },
  {
   "cell_type": "code",
   "execution_count": 5,
   "metadata": {
    "collapsed": false
   },
   "outputs": [],
   "source": [
    "    var ranks = links.mapValues(function () {\n",
    "        return 1.0;\n",
    "    });\n"
   ]

  },
   {
   "cell_type": "markdown",
   "metadata": {},
   "source": [
    " Calculates and updates URL ranks continuously using PageRank algorithm.\n"
   ]

  },
  {
   "cell_type": "code",
   "execution_count": 6,
   "metadata": {
    "collapsed": false
   },
   "outputs": [],
   "source": [
    "    for (var current = 0; current < iters; current++) {\n",
    "        \/\/ Calculates URL contributions to the rank of other URLs.\n",
    "        var contribs = links.join(ranks).values()\n",
    "            .flatMapToPair(function (tuple) {\n",
    "                var t = tuple[0];\n",
    "                var urlCount = t.length;\n",
    "                var results = new List();\n",
    "                for (var n = 0; n < urlCount; n++) {\n",
    "                    results.add(new Tuple(t[n], tuple[1] \/ urlCount));\n",
    "                }\n",
    "                return results;\n",
    "            });\n",
    "\n",
    "        \/\/ Re-calculates URL ranks based on neighbor contributions.\n",
    "        ranks = contribs.reduceByKey(function (a, b) {\n",
    "            return a + b;\n",
    "        }).mapValues(function (sum) {\n",
    "            return 0.15 + sum * 0.85;\n",
    "        });\n",
    "    }\n"
   ]

  },
   {
   "cell_type": "markdown",
   "metadata": {},
   "source": [
    " Collects all URL ranks and dump them to console.\n"
   ]

  },
  {
   "cell_type": "code",
   "execution_count": 7,
   "metadata": {
    "collapsed": false
   },
   "outputs": [],
   "source": [
    "    var output = ranks.collect();\n",
    "    var result = \"\";\n",
    "    for (var i = 0; i < output.length; i++) {\n",
    "        result += output[i][0] + \" has rank: \" + output[i][1] + \".\\n\";\n",
    "    }\n",
    "    return result;\n",
    "    print(result);\n",
    "\n",
    "    sc.stop();\n"
   ]
  }
 ],
 "metadata": {
  "kernelspec": {
   "display_name": "Spark 1.6.1 (Javascript)",
   "language": "javascript",
   "name": "eclair"
  },
  "language_info": {
   "name": "scala"
  }
 },
 "nbformat": 4,
 "nbformat_minor": 0
}