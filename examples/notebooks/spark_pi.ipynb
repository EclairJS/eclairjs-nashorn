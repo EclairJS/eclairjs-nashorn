
{
 "cells": [
      
   {
   "cell_type": "markdown",
   "metadata": {},
   "source": [
    " Computes an approximation to pi\n"
   ]

  },
  {
   "cell_type": "code",
   "execution_count": 1,
   "metadata": {
    "collapsed": false
   },
   "outputs": [],
   "source": [
    "\n",
    "    var conf = new SparkConf().setAppName(\"JavaScript Spark Pi\");\n",
    "    var sc = new SparkContext(conf);\n",
    "    var slices = 50;\n",
    "\n",
    "    var n = 100000 * slices;\n",
    "    var l = [];\n",
    "    for (var i = 0; i < n; i++) {\n",
    "        l.push(i);\n",
    "    }\n"
   ]

  },
  {
   "cell_type": "code",
   "execution_count": 2,
   "metadata": {
    "collapsed": false
   },
   "outputs": [],
   "source": [
    "    var dataSet = sc.parallelize(l, slices);\n"
   ]

  },
  {
   "cell_type": "code",
   "execution_count": 3,
   "metadata": {
    "collapsed": false
   },
   "outputs": [],
   "source": [
    "    var count = dataSet.map(function (i) {\n",
    "        var x = Math.random() * 2 - 1;\n",
    "        var y = Math.random() * 2 - 1;\n",
    "        return (x * x + y * y < 1) ? 1 : 0;\n",
    "    }).reduce(function (int1, int2) {\n",
    "        return int1 + int2;\n",
    "    });\n",
    "\n",
    "var result = (4.0 * count \/ n)\n",
    "    print(\"Pi is roughly \" + result);\n",
    "    sc.stop();\n"
   ]
  }
 ],
 "metadata": {
  "kernelspec": {
   "display_name": "Spark 1.6.1 (Javascript)",
   "language": "javascript",
   "name": "eclair"
  },
  "language_info": {
   "name": "scala"
  }
 },
 "nbformat": 4,
 "nbformat_minor": 0
}