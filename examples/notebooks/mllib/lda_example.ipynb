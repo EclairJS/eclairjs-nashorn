
{
 "cells": [
      
  {
   "cell_type": "code",
   "execution_count": 1,
   "metadata": {
    "collapsed": false
   },
   "outputs": [],
   "source": [
    "    var sparkConf = new SparkConf().setAppName(\"LDA Example\");\n",
    "    var sc = new SparkContext(sparkConf);\n"
   ]

  },
   {
   "cell_type": "markdown",
   "metadata": {},
   "source": [
    " Load and parse the data\n"
   ]

  },
  {
   "cell_type": "code",
   "execution_count": 2,
   "metadata": {
    "collapsed": false
   },
   "outputs": [],
   "source": [
    "var path =  \"..\/data\/mllib\/sample_lda_data.txt\";\n",
    "    var data = sc.textFile(path);\n",
    "    var parsedData = data.map(function (s) {\n",
    "       var sarray = s.trim().split(\" \");\n",
    "        var values = [];\n",
    "        for (var i = 0; i < sarray.length; i++) {\n",
    "            values[i] = parseFloat(sarray[i]);\n",
    "        }\n",
    "        return Vectors.dense(values);\n",
    "    });\n"
   ]

  },
   {
   "cell_type": "markdown",
   "metadata": {},
   "source": [
    " Index documents with unique IDs\n"
   ]

  },
  {
   "cell_type": "code",
   "execution_count": 3,
   "metadata": {
    "collapsed": false
   },
   "outputs": [],
   "source": [
    "    var data = parsedData.zipWithIndex().map(function (doc_id) {\n",
    "        return new Tuple(doc_id[1], doc_id[0]); \/\/ swap\n",
    "    });\n",
    "    var corpus = PairRDD.fromRDD(data).cache();\n"
   ]

  },
   {
   "cell_type": "markdown",
   "metadata": {},
   "source": [
    " Cluster the documents into three topics using LDA\n"
   ]

  },
  {
   "cell_type": "code",
   "execution_count": 4,
   "metadata": {
    "collapsed": false
   },
   "outputs": [],
   "source": [
    "    var ldaModel = new LDA().setK(3).run(corpus);\n"
   ]

  },
   {
   "cell_type": "markdown",
   "metadata": {},
   "source": [
    " Output topics. Each is a distribution over words (matching word count vectors)\n"
   ]

  },
  {
   "cell_type": "code",
   "execution_count": 5,
   "metadata": {
    "collapsed": false
   },
   "outputs": [],
   "source": [
    "    var ret = {};\n",
    "    ret.vocabSize = ldaModel.vocabSize();\n",
    "    ret.topics = [];\n",
    "\n",
    "    var topics = ldaModel.topicsMatrix();\n",
    "    for (var topic = 0; topic < 3; topic++) {\n",
    "        var str = \"\";\n",
    "        for (var word = 0; word < ldaModel.vocabSize(); word++) {\n",
    "            str += \" \" + topics.apply(word, topic);\n",
    "        }\n",
    "        ret.topics[topic] = str;\n",
    "    }\n",
    "var result = ret;\n",
    "    print(\"Learned topics (as distributions over vocab of \" + result.vocabSize + \" words):\");\n",
    "    for (var t in result.topics) {\n",
    "        print(\"Topic \" + t + \":\");\n",
    "        print(result.topics[t]);\n",
    "    }\n",
    "\n",
    "    sc.stop();\n"
   ]
  }
 ],
 "metadata": {
  "kernelspec": {
   "display_name": "Spark 1.6.1 (Javascript)",
   "language": "javascript",
   "name": "eclair"
  },
  "language_info": {
   "name": "scala"
  }
 },
 "nbformat": 4,
 "nbformat_minor": 0
}