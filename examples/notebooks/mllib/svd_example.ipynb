
{
 "cells": [
      
  {
   "cell_type": "code",
   "execution_count": 1,
   "metadata": {
    "collapsed": false
   },
   "outputs": [],
   "source": [
    "\n",
    "    var sparkConf = new SparkConf().setAppName(\"SVD Example\");\n",
    "    var sc = new SparkContext(sparkConf);\n",
    "    var results = run(sc);\n",
    "    print(\"U factor is:\");\n",
    "    results.collectPartitions.forEach(function (vector) {\n",
    "        print(\"\\t\" + vector);\n",
    "    });\n",
    "    print(\"Singular values are: \" + results.s);\n",
    "    print(\"V factor is:\\n\" + results.V);\n",
    "\n",
    "    sc.stop();\n"
   ]
  }
 ],
 "metadata": {
  "kernelspec": {
   "display_name": "Spark 1.6.1 (Javascript)",
   "language": "javascript",
   "name": "eclair"
  },
  "language_info": {
   "name": "scala"
  }
 },
 "nbformat": 4,
 "nbformat_minor": 0
}