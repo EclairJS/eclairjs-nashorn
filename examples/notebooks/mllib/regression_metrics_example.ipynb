
{
 "cells": [
      
  {
   "cell_type": "code",
   "execution_count": 1,
   "metadata": {
    "collapsed": false
   },
   "outputs": [],
   "source": [
    "\n",
    "var sparkConf = new SparkConf()\n",
    "  .setAppName(\"Regression Metrics Example\");\n",
    "\n",
    "var sc = new SparkContext(sparkConf);\n",
    "var filename =  \"..\/data\/mllib\/sample_linear_regression_data.txt\";\n",
    "var data = data = sc.textFile(filename);\n",
    "\n",
    "var parsedData = data.map(function(line) {\n",
    "    var arr = line.split(\" \");\n",
    "    var features = arr.slice(1).map(function(item) {\n",
    "        return parseFloat(item.split(\":\")[1]);\n",
    "    });\n",
    "\n",
    "    return new LabeledPoint(parseFloat(arr[0]), new Vectors.dense(features));\n",
    "}).cache();\n",
    "\n",
    "var numIterations = 100;\n",
    "var model = LinearRegressionWithSGD.train(parsedData, numIterations);\n",
    "\n",
    "var valuesAndPreds = parsedData.mapToPair(function(lp, model) { \/\/ FIXME\n",
    "    return [\n",
    "        model.predict(lp.getFeatures()), \n",
    "        lp.getLabel()\n",
    "    ];\n",
    "}); \/\/ end MapToPair\n"
   ]

  },
   {
   "cell_type": "markdown",
   "metadata": {},
   "source": [
    "Instantiate metrics object\n"
   ]

  },
  {
   "cell_type": "code",
   "execution_count": 2,
   "metadata": {
    "collapsed": false
   },
   "outputs": [],
   "source": [
    "var metrics = new RegressionMetrics(valuesAndPreds)\n"
   ]

  },
   {
   "cell_type": "markdown",
   "metadata": {},
   "source": [
    " Squared Error\n"
   ]

  },
  {
   "cell_type": "code",
   "execution_count": 3,
   "metadata": {
    "collapsed": false
   },
   "outputs": [],
   "source": [
    "print(\"MSE = \" + metrics.meanSquaredError());\n",
    "print(\"RMSE = \" + metrics.rootMeanSquaredError());\n"
   ]

  },
   {
   "cell_type": "markdown",
   "metadata": {},
   "source": [
    " R-squared\n"
   ]

  },
  {
   "cell_type": "code",
   "execution_count": 4,
   "metadata": {
    "collapsed": false
   },
   "outputs": [],
   "source": [
    "print(\"R-squared = \" + metrics.r2());\n"
   ]

  },
   {
   "cell_type": "markdown",
   "metadata": {},
   "source": [
    " Mean absolute error\n"
   ]

  },
  {
   "cell_type": "code",
   "execution_count": 5,
   "metadata": {
    "collapsed": false
   },
   "outputs": [],
   "source": [
    "print(\"MAE = \" + metrics.meanAbsoluteError())\n"
   ]

  },
   {
   "cell_type": "markdown",
   "metadata": {},
   "source": [
    " Explained variance\n"
   ]
  }
 ],
 "metadata": {
  "kernelspec": {
   "display_name": "Spark 1.6.1 (Javascript)",
   "language": "javascript",
   "name": "eclair"
  },
  "language_info": {
   "name": "scala"
  }
 },
 "nbformat": 4,
 "nbformat_minor": 0
}