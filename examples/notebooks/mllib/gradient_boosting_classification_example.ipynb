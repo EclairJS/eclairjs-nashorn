
{
 "cells": [
      
  {
   "cell_type": "code",
   "execution_count": 1,
   "metadata": {
    "collapsed": false
   },
   "outputs": [],
   "source": [
    "    var sparkConf = new SparkConf().setAppName(\"Gradient Boosting Classification\");\n",
    "    var sc = new SparkContext(sparkConf);\n"
   ]

  },
   {
   "cell_type": "markdown",
   "metadata": {},
   "source": [
    " Load and parse the data file.\n"
   ]

  },
  {
   "cell_type": "code",
   "execution_count": 2,
   "metadata": {
    "collapsed": false
   },
   "outputs": [],
   "source": [
    "var datapath =  \"..\/data\/mllib\/sample_libsvm_data.txt\";\n",
    "    var data = MLUtils.loadLibSVMFile(sc, datapath);\n"
   ]

  },
   {
   "cell_type": "markdown",
   "metadata": {},
   "source": [
    " Split the data into training and test sets (30% held out for testing)\n"
   ]

  },
  {
   "cell_type": "code",
   "execution_count": 3,
   "metadata": {
    "collapsed": false
   },
   "outputs": [],
   "source": [
    "    var splits = data.randomSplit([0.7, 0.3]);\n",
    "    var trainingData = splits[0];\n",
    "    var testData = splits[1];\n"
   ]

  },
   {
   "cell_type": "markdown",
   "metadata": {},
   "source": [
    " Train a GradientBoostedTrees model.\n",
    " The defaultParams for Classification use LogLoss by default.\n"
   ]

  },
  {
   "cell_type": "code",
   "execution_count": 4,
   "metadata": {
    "collapsed": false
   },
   "outputs": [],
   "source": [
    "    var boostingStrategy = BoostingStrategy.defaultParams(\"Classification\");\n",
    "    boostingStrategy.setNumIterations(3); \/\/ Note: Use more iterations in practice.\n",
    "    boostingStrategy.getTreeStrategy().setNumClasses(2);\n",
    "    boostingStrategy.getTreeStrategy().setMaxDepth(5);\n"
   ]

  },
   {
   "cell_type": "markdown",
   "metadata": {},
   "source": [
    " Empty categoricalFeaturesInfo indicates all features are continuous.\n"
   ]

  },
  {
   "cell_type": "code",
   "execution_count": 5,
   "metadata": {
    "collapsed": false
   },
   "outputs": [],
   "source": [
    "    var categoricalFeaturesInfo = {};\n",
    "    boostingStrategy.getTreeStrategy().setCategoricalFeaturesInfo(categoricalFeaturesInfo);\n",
    "\n",
    "    var model = GradientBoostedTrees.train(trainingData, boostingStrategy);\n"
   ]

  },
  {
   "cell_type": "code",
   "execution_count": 6,
   "metadata": {
    "collapsed": false
   },
   "outputs": [],
   "source": [
    "    var predictionAndLabel = testData.mapToPair(function (lp, model) {\n",
    "        return new Tuple(model.predict(lp.getFeatures()), lp.getLabel());\n",
    "    }, [model]);\n"
   ]

  },
  {
   "cell_type": "code",
   "execution_count": 7,
   "metadata": {
    "collapsed": false
   },
   "outputs": [],
   "source": [
    "    var testErr = predictionAndLabel.filter(function (tuple) {\n",
    "            return tuple[0] != tuple[1];\n",
    "        }).count() \/ testData.count();\n",
    "\n",
    "    var ret = {};\n",
    "    ret.testErr = testErr;\n",
    "    ret.model = model;\n",
    "var result = ret;\n",
    "    print(\"Test Error: \" + result.testErr);\n",
    "    print(\"Learned classification GBT model:\\n\" + result.model.toDebugString());\n"
   ]

  },
   {
   "cell_type": "markdown",
   "metadata": {},
   "source": [
    " Save and load model\n"
   ]

  },
  {
   "cell_type": "code",
   "execution_count": 8,
   "metadata": {
    "collapsed": false
   },
   "outputs": [],
   "source": [
    "    result.model.save(sc, \"target\/tmp\/myGradientBoostingClassificationModel\");\n",
    "    var sameModel = GradientBoostedTreesModel.load(sc, \"target\/tmp\/myGradientBoostingClassificationModel\");\n",
    "\n",
    "    sc.stop();\n"
   ]
  }
 ],
 "metadata": {
  "kernelspec": {
   "display_name": "Spark 1.6.1 (Javascript)",
   "language": "javascript",
   "name": "eclair"
  },
  "language_info": {
   "name": "scala"
  }
 },
 "nbformat": 4,
 "nbformat_minor": 0
}