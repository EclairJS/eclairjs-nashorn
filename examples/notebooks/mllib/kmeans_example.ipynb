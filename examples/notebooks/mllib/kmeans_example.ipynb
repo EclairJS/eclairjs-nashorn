
{
 "cells": [
      
  {
   "cell_type": "code",
   "execution_count": 1,
   "metadata": {
    "collapsed": false
   },
   "outputs": [],
   "source": [
    "var inputFile =  \"..\/data\/mllib\/kmeans_data.txt\";\n",
    "var k = 3;\n",
    "var iterations = 10;\n",
    "var runs = 1;\n"
   ]

  },
  {
   "cell_type": "code",
   "execution_count": 2,
   "metadata": {
    "collapsed": false
   },
   "outputs": [],
   "source": [
    "    if (args.length > 1) {\n",
    "        inputFile = args[1];\n",
    "    }\n",
    "    if (args.length > 2) {\n",
    "        k = parseInt(args[2]);\n",
    "    }\n",
    "    if (args.length > 3) {\n",
    "        iterations = parseInt(args[3]);\n",
    "    }\n",
    "    if (args.length > 4) {\n",
    "        runs = parseInt(args[4]);\n",
    "    }\n",
    "    var sparkConf = new SparkConf().setAppName(\"KMeans Example\");\n",
    "    var sc = new SparkContext(sparkConf);\n"
   ]

  },
  {
   "cell_type": "code",
   "execution_count": 3,
   "metadata": {
    "collapsed": false
   },
   "outputs": [],
   "source": [
    "    var lines = sc.textFile(inputFile);\n",
    "\n",
    "    var points = lines.map(function (line) {\n",
    "        var tok = line.split(\" \");\n",
    "        var point = [];\n",
    "        tok.forEach(function (t) {\n",
    "            point.push(parseFloat(t));\n",
    "        });\n",
    "        return Vectors.dense(point);\n",
    "    });\n",
    "\n",
    "    var model = KMeans.train(points, k, iterations, runs, KMeans.K_MEANS_PARALLEL);\n",
    "    var center = model.clusterCenters();\n",
    "    var cost = model.computeCost(points);\n",
    "\n",
    "var result = {\"center\": center, \"cost\": cost};\n",
    "    print(\"Cluster centers:\");\n",
    "    print(JSON.stringify(result.center));\n",
    "    print(\"Cost: \" + result.cost);\n",
    "\n",
    "    sc.stop();\n"
   ]
  }
 ],
 "metadata": {
  "kernelspec": {
   "display_name": "Spark 1.6.1 (Javascript)",
   "language": "javascript",
   "name": "eclair"
  },
  "language_info": {
   "name": "scala"
  }
 },
 "nbformat": 4,
 "nbformat_minor": 0
}