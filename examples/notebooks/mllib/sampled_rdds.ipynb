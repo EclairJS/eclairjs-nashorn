
{
 "cells": [
      
  {
   "cell_type": "code",
   "execution_count": 1,
   "metadata": {
    "collapsed": false
   },
   "outputs": [],
   "source": [
    "\n",
    "var USAGE = \"bin\/eclairjs examples\/mllib\/sampled_rdds.js examples\/data\/mllib\/sample_binary_classification_data.txt\";\n",
    "\n",
    "if (args.length < 2) {\n",
    "    print(USAGE);\n",
    "    exit(1);\n",
    "}\n",
    "\n",
    "var datapath = args[1];\n",
    "var conf = new SparkConf().setAppName(\"PythonSampledRDDs\");\n",
    "var sc = new SparkContext(conf);\n",
    "\n",
    "var fraction = 0.1  \/\/ fraction of data to sample\n",
    "\n",
    "var examples = MLUtils.loadLibSVMFile(sc, datapath);\n",
    "var numExamples = examples.count();\n",
    "if (numExamples == 0) {\n",
    "    print(\"Error: Data file had no samples to load. \");\n",
    "    exit(1) ;\n",
    "}\n",
    "\n",
    "print(\"Loaded data with \" + numExamples + \" examples from file: \"  +  datapath );\n"
   ]

  },
   {
   "cell_type": "markdown",
   "metadata": {},
   "source": [
    " Example: RDD.sample() and RDD.takeSample()\n"
   ]

  },
  {
   "cell_type": "code",
   "execution_count": 2,
   "metadata": {
    "collapsed": false
   },
   "outputs": [],
   "source": [
    "var expectedSampleSize = parseInt(numExamples * fraction);\n",
    "print('Sampling RDD using fraction ' + fraction + ' Expected sample size = ' + expectedSampleSize);\n",
    "\n",
    "var sampledRDD = examples.sample(true, fraction);\n",
    "print('  RDD.sample(): sample has '+  sampledRDD.count() + ' examples');\n",
    "var sampledArray = examples.takeSample(true, expectedSampleSize);\n",
    "print('  RDD.takeSample(): sample has ' + sampledArray.length + ' examples');\n",
    "\n",
    "print()\n"
   ]

  },
  {
   "cell_type": "code",
   "execution_count": 3,
   "metadata": {
    "collapsed": false
   },
   "outputs": [],
   "source": [
    "sc.stop()\n"
   ]
  }
 ],
 "metadata": {
  "kernelspec": {
   "display_name": "Spark 1.6.1 (Javascript)",
   "language": "javascript",
   "name": "eclair"
  },
  "language_info": {
   "name": "scala"
  }
 },
 "nbformat": 4,
 "nbformat_minor": 0
}