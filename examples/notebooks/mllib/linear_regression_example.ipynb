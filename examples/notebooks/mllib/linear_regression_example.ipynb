
{
 "cells": [
      
  {
   "cell_type": "code",
   "execution_count": 1,
   "metadata": {
    "collapsed": false
   },
   "outputs": [],
   "source": [
    "\n",
    "    var sparkConf = new SparkConf().setAppName(\"Linear Regression Example\");\n",
    "    var sc = new SparkContext(sparkConf);\n",
    "\n",
    "var filename =  \"..\/data\/lpsa.data\";\n",
    "    var data = sc.textFile(filename).cache();\n",
    "    var parsedData = data.map(function (s) {\n",
    "        var parts = s.split(\",\");\n",
    "        var features = parts[1].split(\" \");\n",
    "        return new LabeledPoint(parts[0], new DenseVector(features));\n",
    "    });\n",
    "\n",
    "    var numIterations = 3;\n",
    "    var linearRegressionModel = LinearRegressionWithSGD.train(parsedData, numIterations);\n",
    "\n",
    "    var delta = 17;\n",
    "    var valuesAndPreds = parsedData.mapToPair(function (lp, linearRegressionModel, delta) {\n",
    "        var label = lp.getLabel();\n",
    "        var f = lp.getFeatures();\n",
    "        var prediction = linearRegressionModel.predict(f) + delta;\n",
    "        return new Tuple(prediction, label);\n",
    "    }, [linearRegressionModel, delta]); \/\/ end MapToPair\n",
    "\n",
    "var result = valuesAndPreds.take(10);\n",
    "    print(\"valuesAndPreds: \" + result.toString());\n",
    "\n",
    "    sc.stop();\n"
   ]
  }
 ],
 "metadata": {
  "kernelspec": {
   "display_name": "Spark 1.6.1 (Javascript)",
   "language": "javascript",
   "name": "eclair"
  },
  "language_info": {
   "name": "scala"
  }
 },
 "nbformat": 4,
 "nbformat_minor": 0
}