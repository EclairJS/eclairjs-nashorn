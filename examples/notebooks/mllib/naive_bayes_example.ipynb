
{
 "cells": [
      
  {
   "cell_type": "code",
   "execution_count": 1,
   "metadata": {
    "collapsed": false
   },
   "outputs": [],
   "source": [
    "    var sparkConf = new SparkConf().setAppName(\"Naive Bayes Example\");\n",
    "    var sc = new SparkContext(sparkConf);\n",
    "\n",
    "var path =  \"..\/data\/mllib\/sample_libsvm_data.txt\";\n",
    "    var inputData = MLUtils.loadLibSVMFile(sc, path);\n",
    "    var tmp = inputData.randomSplit([0.6, 0.4], 12345);\n",
    "    var training = tmp[0]; \/\/ training set\n",
    "    var test = tmp[1]; \/\/ test set\n",
    "    var model = NaiveBayes.train(training, 1.0);\n",
    "\n",
    "    var predictionAndLabel = test.mapToPair(function (lp, model) {\n",
    "        return new Tuple(model.predict(lp.getFeatures()), lp.getLabel());\n",
    "    }, [model]);\n",
    "\n",
    "    var ret = {};\n",
    "    ret.model = model;\n",
    "    ret.accuracy = predictionAndLabel.filter(function (tuple) {\n",
    "            return tuple[0] == tuple[1];\n",
    "        }).count() \/ test.count();\n",
    "\n",
    "var result = ret;\n",
    "    print(\"accuracy = \" + result.accuracy);\n"
   ]

  },
   {
   "cell_type": "markdown",
   "metadata": {},
   "source": [
    " Save and load model\n"
   ]

  },
  {
   "cell_type": "code",
   "execution_count": 2,
   "metadata": {
    "collapsed": false
   },
   "outputs": [],
   "source": [
    "    result.model.save(sc, \"target\/tmp\/myNaiveBayesModel\");\n",
    "    var sameModel = NaiveBayesModel.load(sc, \"target\/tmp\/myNaiveBayesModel\");\n",
    "}\n"
   ]
  }
 ],
 "metadata": {
  "kernelspec": {
   "display_name": "Spark 1.6.1 (Javascript)",
   "language": "javascript",
   "name": "eclair"
  },
  "language_info": {
   "name": "scala"
  }
 },
 "nbformat": 4,
 "nbformat_minor": 0
}