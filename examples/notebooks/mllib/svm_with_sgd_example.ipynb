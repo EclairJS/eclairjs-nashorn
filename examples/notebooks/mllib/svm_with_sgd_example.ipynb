
{
 "cells": [
      
  {
   "cell_type": "code",
   "execution_count": 1,
   "metadata": {
    "collapsed": false
   },
   "outputs": [],
   "source": [
    "\n",
    "    var sparkConf = new SparkConf().setAppName(\"SVMWithSGDExample\");\n",
    "    var sc = new SparkContext(sparkConf);\n",
    "    var results = run(sc);\n",
    "    print(\"Area under ROC = \" + results.auROC);\n"
   ]

  },
   {
   "cell_type": "markdown",
   "metadata": {},
   "source": [
    " Save and load model\n"
   ]

  },
  {
   "cell_type": "code",
   "execution_count": 2,
   "metadata": {
    "collapsed": false
   },
   "outputs": [],
   "source": [
    "    results.model.save(sc, \"target\/tmp\/SVMWithSGDModel\");\n",
    "    var sameModel = SVMModel.load(sc, \"target\/tmp\/SVMWithSGDModel\");\n",
    "\n",
    "    sc.stop();\n"
   ]
  }
 ],
 "metadata": {
  "kernelspec": {
   "display_name": "Spark 1.6.1 (Javascript)",
   "language": "javascript",
   "name": "eclair"
  },
  "language_info": {
   "name": "scala"
  }
 },
 "nbformat": 4,
 "nbformat_minor": 0
}