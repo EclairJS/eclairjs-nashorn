
{
 "cells": [
      
  {
   "cell_type": "code",
   "execution_count": 1,
   "metadata": {
    "collapsed": false
   },
   "outputs": [],
   "source": [
    "function featuresToString(tuple) {\n",
    "    return tuple[0] + \",\" + tuple[2];\n",
    "}\n"
   ]

  },
  {
   "cell_type": "code",
   "execution_count": 2,
   "metadata": {
    "collapsed": false
   },
   "outputs": [],
   "source": [
    "\n",
    "if (args.length < 5) {\n",
    "    print(\n",
    "        \"Usage: bin\/eclairjs.sh examples\/mllib\/als.js <ratings_file> <rank> <iterations> <output_dir> [<blocks>]\");\n",
    "    exit(1);\n",
    "}\n",
    "var sparkConf = new SparkConf().setAppName(\"JavaALS\");\n",
    "var rank = parseInt(args[2]);\n",
    "var iterations = parseInt(args[3]);\n",
    "var outputDir = args[4];\n",
    "var blocks = -1;\n",
    "if (args.length == 6) {\n",
    "    blocks = parseInt(args[5]);\n",
    "}\n",
    "\n",
    "var sc = new SparkContext(sparkConf);\n",
    "var lines = sc.textFile(args[1]);\n"
   ]

  },
  {
   "cell_type": "code",
   "execution_count": 3,
   "metadata": {
    "collapsed": false
   },
   "outputs": [],
   "source": [
    "var ratings = lines.map(function(line){\n",
    "    var tok = line.split(\",\");\n",
    "    var x = parseInt(tok[0]);\n",
    "    var y = parseInt(tok[1]);\n",
    "    var rating = parseFloat(tok[2]);\n",
    "    return new Rating(x, y, rating);\n",
    "});\n",
    "\n",
    "var model = ALS.train(ratings, rank, iterations, 0.01, blocks);\n",
    "\n",
    "var userFeaatureRDD = model.userFeatures()\n",
    "                            .map(featuresToString)\n",
    "                            .saveAsTextFile(outputDir + \"\/userFeatures\");\n",
    "\n",
    "var productFeaturesRDD = model.productFeatures()\n",
    "                            .map(featuresToString)\n",
    "                            .saveAsTextFile(outputDir + \"\/productFeatures\");\n",
    "\n",
    "print(\"Final user\/product features written to \" + outputDir);\n",
    "\n",
    "sc.stop();\n"
   ]
  }
 ],
 "metadata": {
  "kernelspec": {
   "display_name": "Spark 1.6.1 (Javascript)",
   "language": "javascript",
   "name": "eclair"
  },
  "language_info": {
   "name": "scala"
  }
 },
 "nbformat": 4,
 "nbformat_minor": 0
}