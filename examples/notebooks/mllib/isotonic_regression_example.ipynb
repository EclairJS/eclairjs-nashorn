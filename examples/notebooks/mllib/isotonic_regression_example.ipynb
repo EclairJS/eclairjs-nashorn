
{
 "cells": [
      
  {
   "cell_type": "code",
   "execution_count": 1,
   "metadata": {
    "collapsed": false
   },
   "outputs": [],
   "source": [
    "    var sparkConf = new SparkConf().setAppName(\"Isotonic Regression Example\");\n",
    "    var sc = new SparkContext(sparkConf);\n",
    "\n",
    "var filename =  \"..\/data\/mllib\/sample_isotonic_regression_data.txt\";\n",
    "    var data = sc.textFile(filename);\n"
   ]

  },
   {
   "cell_type": "markdown",
   "metadata": {},
   "source": [
    " Create label, feature, weight tuples from input data with weight set to default value 1.0.\n"
   ]

  },
  {
   "cell_type": "code",
   "execution_count": 2,
   "metadata": {
    "collapsed": false
   },
   "outputs": [],
   "source": [
    "    var parsedData = data.map(function (line) {\n",
    "        var parts = line.split(\",\");\n",
    "        return new Tuple(parseFloat(parts[0]), parseFloat(parts[1]), 1.0);\n",
    "    });\n"
   ]

  },
   {
   "cell_type": "markdown",
   "metadata": {},
   "source": [
    " Split data into training (60%) and test (40%) sets.\n"
   ]

  },
  {
   "cell_type": "code",
   "execution_count": 3,
   "metadata": {
    "collapsed": false
   },
   "outputs": [],
   "source": [
    "    var splits = parsedData.randomSplit([0.6, 0.4], 11);\n",
    "    var training = splits[0];\n",
    "    var test = splits[1];\n"
   ]

  },
   {
   "cell_type": "markdown",
   "metadata": {},
   "source": [
    " Create isotonic regression model from training data.\n",
    " Isotonic parameter defaults to true so it is only shown for demonstration\n"
   ]

  },
  {
   "cell_type": "code",
   "execution_count": 4,
   "metadata": {
    "collapsed": false
   },
   "outputs": [],
   "source": [
    "    var model = new IsotonicRegression().setIsotonic(true).run(training);\n"
   ]

  },
   {
   "cell_type": "markdown",
   "metadata": {},
   "source": [
    " Create tuples of predicted and real labels.\n"
   ]

  },
  {
   "cell_type": "code",
   "execution_count": 5,
   "metadata": {
    "collapsed": false
   },
   "outputs": [],
   "source": [
    "    var predictionAndLabel = test.mapToPair(function (point, model) {\n",
    "        var predictedLabel = model.predict(point[1]);\n",
    "        return new Tuple(predictedLabel, point[0]);\n",
    "\n",
    "    }, [model]);\n"
   ]

  },
   {
   "cell_type": "markdown",
   "metadata": {},
   "source": [
    " Calculate mean squared error between predicted and real labels.\n"
   ]

  },
  {
   "cell_type": "code",
   "execution_count": 6,
   "metadata": {
    "collapsed": false
   },
   "outputs": [],
   "source": [
    "    var meanSquaredError = new FloatRDD(predictionAndLabel.map(function (pl) {\n",
    "        return Math.pow(pl[0] - pl[1], 2);\n",
    "    })).mean();\n",
    "\n",
    "    var result = {};\n",
    "    result.meanSquaredError = meanSquaredError;\n",
    "    result.model = model;\n",
    "    return result;\n",
    "    print(\"Mean Squared Error = \" + result.meanSquaredError);\n"
   ]

  },
   {
   "cell_type": "markdown",
   "metadata": {},
   "source": [
    " Save and load model\n"
   ]

  },
  {
   "cell_type": "code",
   "execution_count": 7,
   "metadata": {
    "collapsed": false
   },
   "outputs": [],
   "source": [
    "    result.model.save(sc, \"target\/tmp\/myIsotonicRegressionModel\");\n",
    "    var sameModel = IsotonicRegressionModel.load(sc, \"target\/tmp\/myIsotonicRegressionModel\");\n"
   ]

  },
  {
   "cell_type": "code",
   "execution_count": 8,
   "metadata": {
    "collapsed": false
   },
   "outputs": [],
   "source": [
    "    sc.stop();\n"
   ]
  }
 ],
 "metadata": {
  "kernelspec": {
   "display_name": "Spark 1.6.1 (Javascript)",
   "language": "javascript",
   "name": "eclair"
  },
  "language_info": {
   "name": "scala"
  }
 },
 "nbformat": 4,
 "nbformat_minor": 0
}