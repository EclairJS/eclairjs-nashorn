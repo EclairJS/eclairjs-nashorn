
{
 "cells": [
      
  {
   "cell_type": "code",
   "execution_count": 1,
   "metadata": {
    "collapsed": false
   },
   "outputs": [],
   "source": [
    "\n",
    "    var sparkConf = new SparkConf().setAppName(\"BisectingKMeansExample\");\n",
    "    var sc = new SparkContext(sparkConf);\n",
    "    var result = {};\n",
    "    var localData = [\n",
    "        Vectors.dense(0.1, 0.1), Vectors.dense(0.3, 0.3),\n",
    "        Vectors.dense(10.1, 10.1), Vectors.dense(10.3, 10.3),\n",
    "        Vectors.dense(20.1, 20.1), Vectors.dense(20.3, 20.3),\n",
    "        Vectors.dense(30.1, 30.1), Vectors.dense(30.3, 30.3)\n",
    "    ];\n",
    "\n",
    "    var data = sc.parallelize(localData, 2);\n",
    "\n",
    "    var bkm = new BisectingKMeans()\n",
    "        .setK(4);\n",
    "    var model = bkm.run(data);\n",
    "\n",
    "    result.Compute_Cost =  model.computeCost(data);\n"
   ]

  },
  {
   "cell_type": "code",
   "execution_count": 2,
   "metadata": {
    "collapsed": false
   },
   "outputs": [],
   "source": [
    "    var clusterCenters = model.clusterCenters();\n",
    "\n",
    "    for (var i = 0; i < clusterCenters.length; i++) {\n",
    "        var clusterCenter = clusterCenters[i];\n",
    "        result[\"Cluster_Center_\" + i] = clusterCenter.toString();\n",
    "    }\n",
    "    return result;\n",
    "    for (var name in result) {\n",
    "        print(name + \": \" + result[name]);\n",
    "    }\n",
    "\n",
    "    sc.stop();\n"
   ]
  }
 ],
 "metadata": {
  "kernelspec": {
   "display_name": "Spark 1.6.1 (Javascript)",
   "language": "javascript",
   "name": "eclair"
  },
  "language_info": {
   "name": "scala"
  }
 },
 "nbformat": 4,
 "nbformat_minor": 0
}