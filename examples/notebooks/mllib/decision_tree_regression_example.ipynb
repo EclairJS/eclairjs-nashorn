
{
 "cells": [
      
  {
   "cell_type": "code",
   "execution_count": 1,
   "metadata": {
    "collapsed": false
   },
   "outputs": [],
   "source": [
    "\n",
    "    var sparkConf = new SparkConf().setAppName(\"DecisionTreeRegressionnExample\");\n",
    "    var sc = new SparkContext(sparkConf);\n"
   ]

  },
   {
   "cell_type": "markdown",
   "metadata": {},
   "source": [
    " Load and parse the data file.\n"
   ]

  },
  {
   "cell_type": "code",
   "execution_count": 2,
   "metadata": {
    "collapsed": false
   },
   "outputs": [],
   "source": [
    "var datapath =  \"..\/data\/mllib\/sample_libsvm_data.txt\";\n",
    "    var data = MLUtils.loadLibSVMFile(sc, datapath);\n"
   ]

  },
   {
   "cell_type": "markdown",
   "metadata": {},
   "source": [
    " Split the data into training and test sets (30% held out for testing)\n"
   ]

  },
  {
   "cell_type": "code",
   "execution_count": 3,
   "metadata": {
    "collapsed": false
   },
   "outputs": [],
   "source": [
    "    var splits = data.randomSplit([0.7, 0.3]);\n",
    "    var trainingData = splits[0];\n",
    "    var testData = splits[1];\n"
   ]

  },
   {
   "cell_type": "markdown",
   "metadata": {},
   "source": [
    " Set parameters.\n",
    "  Empty categoricalFeaturesInfo indicates all features are continuous.\n"
   ]

  },
  {
   "cell_type": "code",
   "execution_count": 4,
   "metadata": {
    "collapsed": false
   },
   "outputs": [],
   "source": [
    "    var categoricalFeaturesInfo = {};\n",
    "    var impurity = \"variance\";\n",
    "    var maxDepth = 5;\n",
    "    var maxBins = 32;\n"
   ]

  },
   {
   "cell_type": "markdown",
   "metadata": {},
   "source": [
    " Train a DecisionTree model.\n"
   ]

  },
  {
   "cell_type": "code",
   "execution_count": 5,
   "metadata": {
    "collapsed": false
   },
   "outputs": [],
   "source": [
    "    var model = DecisionTree.trainRegressor(trainingData,\n",
    "        categoricalFeaturesInfo, impurity, maxDepth, maxBins);\n"
   ]

  },
   {
   "cell_type": "markdown",
   "metadata": {},
   "source": [
    " Evaluate model on test instances and compute test error\n"
   ]

  },
  {
   "cell_type": "code",
   "execution_count": 6,
   "metadata": {
    "collapsed": false
   },
   "outputs": [],
   "source": [
    "\n",
    "    var predictionAndLabel = testData.mapToPair(function (labeledPoint, model) {\n",
    "        return new Tuple(model.predict(labeledPoint.getFeatures()), labeledPoint.getLabel());\n",
    "    }, [model]);\n",
    "\n",
    "    var testMSE = predictionAndLabel.map(function (tuple2) {\n",
    "            var diff = parseFloat(tuple2[0] - tuple2[1]);\n",
    "            return diff * diff;\n",
    "        }).reduce(function (a, b) {\n",
    "            return a + b;\n",
    "        }) \/ data.count();\n",
    "\n",
    "    var ret = {};\n",
    "    ret.testMSE = testMSE;\n",
    "    ret.model = model;\n",
    "var result = ret;\n",
    "    print(\"Test Mean Squared Error: \" + result.testMSE);\n",
    "    print(\"Learned regression tree model:\\n\" + result.model.toDebugString());\n"
   ]

  },
   {
   "cell_type": "markdown",
   "metadata": {},
   "source": [
    " Save and load model\n"
   ]

  },
  {
   "cell_type": "code",
   "execution_count": 7,
   "metadata": {
    "collapsed": false
   },
   "outputs": [],
   "source": [
    "    result.model.save(sc, \"target\/tmp\/myDecisionTreeRegressionModel\");\n",
    "    var sameModel = DecisionTreeModel\n",
    "        .load(sc, \"target\/tmp\/myDecisionTreeRegressionModel\");\n",
    "\n",
    "    sc.stop();\n"
   ]
  }
 ],
 "metadata": {
  "kernelspec": {
   "display_name": "Spark 1.6.1 (Javascript)",
   "language": "javascript",
   "name": "eclair"
  },
  "language_info": {
   "name": "scala"
  }
 },
 "nbformat": 4,
 "nbformat_minor": 0
}