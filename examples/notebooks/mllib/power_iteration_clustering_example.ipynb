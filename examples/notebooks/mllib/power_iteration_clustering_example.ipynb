
{
 "cells": [
      
  {
   "cell_type": "code",
   "execution_count": 1,
   "metadata": {
    "collapsed": false
   },
   "outputs": [],
   "source": [
    "\n",
    "    var sparkConf = new SparkConf().setAppName(\"PowerIterationClusteringExample\");\n",
    "    var sc = new SparkContext(sparkConf);\n",
    "    var results = run(sc);\n",
    "    results.forEach(function(a){\n",
    "        print(a.id() + \" -> \" + a.cluster());\n",
    "    });\n",
    "\n",
    "    sc.stop();\n"
   ]
  }
 ],
 "metadata": {
  "kernelspec": {
   "display_name": "Spark 1.6.1 (Javascript)",
   "language": "javascript",
   "name": "eclair"
  },
  "language_info": {
   "name": "scala"
  }
 },
 "nbformat": 4,
 "nbformat_minor": 0
}