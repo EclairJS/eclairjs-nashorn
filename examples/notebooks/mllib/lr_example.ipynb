
{
 "cells": [
      
  {
   "cell_type": "code",
   "execution_count": 1,
   "metadata": {
    "collapsed": false
   },
   "outputs": [],
   "source": [
    "var directory =  \"..\/data\/mllib\/lr-data\";\n",
    "var stepSize = 3.0;\n",
    "var iterations = 10;\n"
   ]

  },
   {
   "cell_type": "markdown",
   "metadata": {},
   "source": [
    " Logistic regression based classification using ML Lib.\n"
   ]

  },
  {
   "cell_type": "code",
   "execution_count": 2,
   "metadata": {
    "collapsed": false
   },
   "outputs": [],
   "source": [
    "    if (args.length > 1) {\n",
    "        directory = args[1];\n",
    "    }\n",
    "    if (args.length > 2) {\n",
    "        stepSize = parseFloat(args[2]);\n",
    "    }\n",
    "    if (args.length > 3) {\n",
    "        iterations = parseInt(args[3]);\n",
    "    }\n",
    "\n",
    "    var sparkConf = new SparkConf().setAppName(\"LR example\");\n",
    "    var sc = new SparkContext(sparkConf);\n",
    "    var lines = sc.textFile(directory);\n",
    "    var points = lines.map(function (line) {\n",
    "        var parts = line.split(\",\");\n",
    "        var y = parseFloat(parts[0]);\n",
    "        var tok = parts[1].split(\" \");\n",
    "        var x = [];\n",
    "        for (var i = 0; i < tok.length; ++i) {\n",
    "            x[i] = parseFloat(tok[i]);\n",
    "        }\n",
    "\n",
    "        return new LabeledPoint(y, Vectors.dense(x));\n",
    "\n",
    "    }).cache();\n"
   ]

  },
   {
   "cell_type": "markdown",
   "metadata": {},
   "source": [
    " Another way to configure LogisticRegression\n",
    "\n",
    " LogisticRegressionWithSGD lr = new LogisticRegressionWithSGD();\n",
    " lr.optimizer().setNumIterations(iterations)\n",
    "               .setStepSize(stepSize)\n",
    "               .setMiniBatchFraction(1.0);\n",
    " lr.setIntercept(true);\n",
    " var model = lr.train(points.rdd());\n"
   ]

  },
  {
   "cell_type": "code",
   "execution_count": 3,
   "metadata": {
    "collapsed": false
   },
   "outputs": [],
   "source": [
    "\n",
    "    var model = LogisticRegressionWithSGD.train(points, iterations, stepSize);\n",
    "\n",
    "var result = model.weights();\n",
    "    print(\"Final w: \" + result);\n",
    "\n",
    "    sc.stop();\n"
   ]
  }
 ],
 "metadata": {
  "kernelspec": {
   "display_name": "Spark 1.6.1 (Javascript)",
   "language": "javascript",
   "name": "eclair"
  },
  "language_info": {
   "name": "scala"
  }
 },
 "nbformat": 4,
 "nbformat_minor": 0
}