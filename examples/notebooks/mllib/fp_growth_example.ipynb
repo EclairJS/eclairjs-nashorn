
{
 "cells": [
      
  {
   "cell_type": "code",
   "execution_count": 1,
   "metadata": {
    "collapsed": false
   },
   "outputs": [],
   "source": [
    "var inputFile =  \"..\/data\/mllib\/sample_fpgrowth.txt\";\n",
    "var minSupport = 0.3;\n",
    "var numPartition = -1;\n",
    "\n",
    "    if (args.length >= 2) {\n",
    "        inputFile = args[1];\n",
    "    }\n",
    "\n",
    "    if (args.length >= 3) {\n",
    "        minSupport = parseFloat(args[2]);\n",
    "    }\n",
    "    if (args.length >= 4) {\n",
    "        numPartition = parseInt(args[3]);\n",
    "    }\n",
    "\n",
    "    var sparkConf = new SparkConf().setAppName(\"FPGrowthExample\");\n",
    "    var sc = new SparkContext(sparkConf);\n"
   ]

  },
  {
   "cell_type": "code",
   "execution_count": 2,
   "metadata": {
    "collapsed": false
   },
   "outputs": [],
   "source": [
    "    var transactions = sc.textFile(inputFile).map(function(s){\n",
    "        return new List(s.split(\" \"));\n",
    "    });\n",
    "\n",
    "    var model = new FPGrowth()\n",
    "        .setMinSupport(minSupport)\n",
    "        .setNumPartitions(numPartition)\n",
    "        .run(transactions);\n",
    "\n",
    "    var freqItemsRDD = model.freqItemsets();\n",
    "    var items;\n",
    "    if (useTake) {\n",
    "        items = freqItemsRDD.take(3);\n",
    "    } else {\n",
    "        items = freqItemsRDD.collect();\n",
    "    }\n",
    "var result = items;\n",
    "    result.forEach(function(item){\n",
    "        print(item.items() + \" \" + item.freq());\n",
    "    });\n",
    "\n",
    "    sc.stop();\n"
   ]
  }
 ],
 "metadata": {
  "kernelspec": {
   "display_name": "Spark 1.6.1 (Javascript)",
   "language": "javascript",
   "name": "eclair"
  },
  "language_info": {
   "name": "scala"
  }
 },
 "nbformat": 4,
 "nbformat_minor": 0
}