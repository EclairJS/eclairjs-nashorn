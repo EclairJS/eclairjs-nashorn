
{
 "cells": [
      
  {
   "cell_type": "code",
   "execution_count": 1,
   "metadata": {
    "collapsed": false
   },
   "outputs": [],
   "source": [
    "\n",
    "    var sparkConf = new SparkConf().setAppName(\"L-BFGS Example\");\n",
    "    var sc = new SparkContext(sparkConf);\n",
    "\n",
    "var path =  \"..\/data\/mllib\/sample_libsvm_data.txt\";\n",
    "    var data = MLUtils.loadLibSVMFile(sc, path);\n",
    "    var ret = {};\n",
    "\n",
    "    var numFeatures = data.take(1)[0].getFeatures().size();\n"
   ]

  },
   {
   "cell_type": "markdown",
   "metadata": {},
   "source": [
    " Split initial RDD into two... [60% training data, 40% testing data].\n"
   ]

  },
  {
   "cell_type": "code",
   "execution_count": 2,
   "metadata": {
    "collapsed": false
   },
   "outputs": [],
   "source": [
    "    var trainingInit = data.sample(false, 0.6, 11);\n",
    "    var test = data.subtract(trainingInit);\n"
   ]

  },
   {
   "cell_type": "markdown",
   "metadata": {},
   "source": [
    " Append 1 into the training data as intercept.\n"
   ]

  },
  {
   "cell_type": "code",
   "execution_count": 3,
   "metadata": {
    "collapsed": false
   },
   "outputs": [],
   "source": [
    "    var training = data.map(function (lp) {\n",
    "        return new Tuple(lp.getLabel(), MLUtils.appendBias(lp.getFeatures()));\n",
    "    });\n",
    "\n",
    "    training.cache();\n"
   ]

  },
   {
   "cell_type": "markdown",
   "metadata": {},
   "source": [
    " Run training algorithm to build the model.\n"
   ]

  },
  {
   "cell_type": "code",
   "execution_count": 4,
   "metadata": {
    "collapsed": false
   },
   "outputs": [],
   "source": [
    "    var numCorrections = 10;\n",
    "    var convergenceTol = 0.0001;\n",
    "    var maxNumIterations = 20;\n",
    "    var regParam = 0.1;\n",
    "    var w = [];\n",
    "    for (var i = 0; i < numFeatures + 1; i++) {\n",
    "        w.push(0.0);\n",
    "    }\n",
    "    var initialWeightsWithIntercept = Vectors.dense(w);\n"
   ]

  },
  {
   "cell_type": "code",
   "execution_count": 5,
   "metadata": {
    "collapsed": false
   },
   "outputs": [],
   "source": [
    "    var result = LBFGS.runLBFGS(\n"
   ]

  },
   {
   "cell_type": "markdown",
   "metadata": {},
   "source": [
    " training.rdd(),\n"
   ]

  },
  {
   "cell_type": "code",
   "execution_count": 6,
   "metadata": {
    "collapsed": false
   },
   "outputs": [],
   "source": [
    "        training,\n",
    "        new LogisticGradient(),\n",
    "        new SquaredL2Updater(),\n",
    "        numCorrections,\n",
    "        convergenceTol,\n",
    "        maxNumIterations,\n",
    "        regParam,\n",
    "        initialWeightsWithIntercept);\n",
    "\n",
    "    var weightsWithIntercept = result[0];\n",
    "    ret.loss = result[1];\n"
   ]

  },
  {
   "cell_type": "code",
   "execution_count": 7,
   "metadata": {
    "collapsed": false
   },
   "outputs": [],
   "source": [
    "    var arrayWeightsWithIntercept = weightsWithIntercept.toArray();\n",
    "\n",
    "    var copyOfWeightsWithIntercept = [];\n",
    "    for (var ii = 0; ii < arrayWeightsWithIntercept.length - 1; ii++) {\n",
    "        copyOfWeightsWithIntercept.push(arrayWeightsWithIntercept[ii]);\n",
    "    }\n"
   ]

  },
  {
   "cell_type": "code",
   "execution_count": 8,
   "metadata": {
    "collapsed": false
   },
   "outputs": [],
   "source": [
    "    var model = new LogisticRegressionModel(Vectors.dense(copyOfWeightsWithIntercept), copyOfWeightsWithIntercept.length);\n"
   ]

  },
   {
   "cell_type": "markdown",
   "metadata": {},
   "source": [
    " Clear the default threshold.\n"
   ]

  },
  {
   "cell_type": "code",
   "execution_count": 9,
   "metadata": {
    "collapsed": false
   },
   "outputs": [],
   "source": [
    "    model.clearThreshold();\n",
    "\n",
    "    var scoreAndLabels = test.map(function (lp, model) {\n",
    "        return new Tuple(model.predict(lp.getFeatures()), lp.getLabel());\n",
    "    }, [model]);\n"
   ]

  },
   {
   "cell_type": "markdown",
   "metadata": {},
   "source": [
    " Get evaluation metrics.\n"
   ]

  },
  {
   "cell_type": "code",
   "execution_count": 10,
   "metadata": {
    "collapsed": false
   },
   "outputs": [],
   "source": [
    "    var metrics = new BinaryClassificationMetrics(scoreAndLabels);\n",
    "    ret.auROC = metrics.areaUnderROC();\n",
    "\n",
    "var result = ret;\n",
    "    print(\"Loss of each step in training process\");\n",
    "    result.loss.forEach(function (l) {\n",
    "        print(l);\n",
    "    });\n",
    "    print(\"Area under ROC = \" + result.auROC);\n",
    "\n",
    "    sc.stop();\n"
   ]
  }
 ],
 "metadata": {
  "kernelspec": {
   "display_name": "Spark 1.6.1 (Javascript)",
   "language": "javascript",
   "name": "eclair"
  },
  "language_info": {
   "name": "scala"
  }
 },
 "nbformat": 4,
 "nbformat_minor": 0
}