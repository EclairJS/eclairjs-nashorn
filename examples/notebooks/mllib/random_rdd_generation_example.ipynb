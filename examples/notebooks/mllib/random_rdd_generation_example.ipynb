
{
 "cells": [
      
  {
   "cell_type": "code",
   "execution_count": 1,
   "metadata": {
    "collapsed": false
   },
   "outputs": [],
   "source": [
    "  var sparkConf = new SparkConf().setAppName(\"Random RDD Generation Example\");\n",
    "  var sc = new SparkContext(sparkConf);\n",
    "  var result = {};\n",
    "\n",
    "  var numExamples = 10000; \/\/ # number of examples to generate\n",
    "  var fraction = 0.1;     \/\/ fraction of data to sample\n"
   ]

  },
   {
   "cell_type": "markdown",
   "metadata": {},
   "source": [
    " Example: RandomRDDs.normalRDD\n"
   ]

  },
  {
   "cell_type": "code",
   "execution_count": 2,
   "metadata": {
    "collapsed": false
   },
   "outputs": [],
   "source": [
    "  var normalRDD = RandomRDDs.normalRDD(sc, numExamples);\n",
    "\n",
    "  result.count = normalRDD.count();\n",
    "  result.samples = normalRDD.take(5);\n"
   ]

  },
   {
   "cell_type": "markdown",
   "metadata": {},
   "source": [
    " Example: RandomRDDs.normalVectorRDD\n"
   ]

  },
  {
   "cell_type": "code",
   "execution_count": 3,
   "metadata": {
    "collapsed": false
   },
   "outputs": [],
   "source": [
    "  var normalVectorRDD = RandomRDDs.normalVectorRDD(sc, numExamples, 2);\n",
    "\n",
    "  result.normalVectorCount = normalVectorRDD.count();\n",
    "  result.normalVectorSamples = normalVectorRDD.take(5);\n",
    "\n",
    "  return result;\n",
    "\n",
    "  print(\"Generated RDD examples sampled from the standard normal distribution = \" + result.count);\n",
    "\n",
    "  print(\"First 5 samples:\");\n",
    "  result.samples.forEach(print);\n",
    "\n",
    "  print(\"Generated RDD examples of length-2 vectors: \" + result.normalVectorCount);\n",
    "\n",
    "  print(\"First 5 samples:\");\n",
    "  result.normalVectorSamples.forEach(print);\n",
    "\n",
    "  sc.stop();\n"
   ]
  }
 ],
 "metadata": {
  "kernelspec": {
   "display_name": "Spark 1.6.1 (Javascript)",
   "language": "javascript",
   "name": "eclair"
  },
  "language_info": {
   "name": "scala"
  }
 },
 "nbformat": 4,
 "nbformat_minor": 0
}