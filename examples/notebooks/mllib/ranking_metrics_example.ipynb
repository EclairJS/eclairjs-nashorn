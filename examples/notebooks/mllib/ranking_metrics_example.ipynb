
{
 "cells": [
      
  {
   "cell_type": "code",
   "execution_count": 1,
   "metadata": {
    "collapsed": false
   },
   "outputs": [],
   "source": [
    "\n",
    "var sparkConf = new SparkConf()\n",
    "  .setAppName(\"Ranking Metrics Example\");\n",
    "\n",
    "var sc = new SparkContext(sparkConf);\n",
    "var filename =  \"xamples\/data\/mllib\/sample_movielens_data.txt\";\n",
    "var data = data = sc.textFile(filename);\n",
    "\n",
    "var ratings = data.map(function(line) {\n",
    "    var arr = line.split(\"::\");\n",
    "    var r = new Rating(parseInt(arr[0]),\n",
    "                       parseInt(arr[1]),\n",
    "                       parseFloat(arr[2]) - 2.5);\n",
    "    return r;\n",
    "}).cache();\n",
    "\n",
    "var model = ALS.train(ratings, 10, 10, 0.01);\n",
    "var userRecs = model.recommendProductsForUsers(10);\n",
    "\n",
    "var userRecommendedScaled = userRecs.map(function(val) {\n",
    "  var newRatings = val[1].map(function(r) {\n",
    "    var newRating = Math.max(Math.min(r.rating(), 1.0), 0.0);\n",
    "    return new Rating(r.user(), r.product(), newRating);\n",
    "  });\n",
    "\n",
    "  return new Tuple(val[0], newRatings);\n",
    "});\n",
    "\n",
    "var userRecommended = PairRDD.fromRDD(userRecommendedScaled);\n",
    "\n",
    "var binarizedRatings = ratings.map(function(r) {\n",
    "    var binaryRating = 0.0;\n",
    "    if (r.rating() > 0.0) {\n",
    "        binaryRating = 1.0;\n",
    "    }\n",
    "    \n",
    "    return new Rating(r.user(), r.product(), binaryRating);\n",
    "});\n",
    "\n",
    "var userMovies = binarizedRatings.groupBy(function(r) {\n",
    "    return r.user();\n",
    "});\n",
    "\n",
    "var userMoviesList = userMovies.mapValues(function(docs) {\n",
    "    return docs.reduce(function(prev, curr) {\n",
    "        if(curr.rating() > 0.0) {\n",
    "            return prev.concat(curr.product());\n",
    "        }\n",
    "\n",
    "        return prev;\n",
    "    }, []);\n",
    "});\n",
    "\n",
    "var userRecommendedList = userRecommended.mapValues(function(docs) {\n",
    "    return docs.map(function(rating) {\n",
    "        return rating.product();\n",
    "    });\n",
    "});\n",
    "\n",
    "var relevantDocs = userMoviesList.join(userRecommendedList).values();\n",
    "\n",
    "var metrics = RankingMetrics.of(relevantDocs);\n"
   ]

  },
   {
   "cell_type": "markdown",
   "metadata": {},
   "source": [
    " Precision and NDCG at k\n"
   ]

  },
  {
   "cell_type": "code",
   "execution_count": 2,
   "metadata": {
    "collapsed": false
   },
   "outputs": [],
   "source": [
    "[1, 3, 5].forEach(function(k) {\n",
    "    print(\"Precision at \" + k + \" = \" + metrics.precisionAt(k));\n",
    "    print(\"NDCG at \" + k + \" = \" + metrics.ndcgAt(k));\n",
    "});\n",
    "\n",
    "print(\"Mean average precision = \" + metrics.meanAveragePrecision());\n",
    "\n",
    "var userProducts = ratings.map(function(r) {\n",
    "    return new Tuple(r.user(), r.product());\n",
    "});\n"
   ]

  },
  {
   "cell_type": "code",
   "execution_count": 3,
   "metadata": {
    "collapsed": false
   },
   "outputs": [],
   "source": [
    "var predictions = PairRDD.fromRDD(model.predict(userProducts).map(function(r) {\n",
    "    return new Tuple(new Tuple(r.user(), r.product()), r.rating());\n",
    "}));\n"
   ]

  },
  {
   "cell_type": "code",
   "execution_count": 4,
   "metadata": {
    "collapsed": false
   },
   "outputs": [],
   "source": [
    "var ratesAndPreds = PairRDD.fromRDD(ratings.map(function(r) {\n",
    "    return new Tuple(new Tuple(r.user(), r.product()), r.rating());\n",
    "})).join(predictions).values();\n"
   ]

  },
   {
   "cell_type": "markdown",
   "metadata": {},
   "source": [
    " Create regression metrics object\n"
   ]

  },
  {
   "cell_type": "code",
   "execution_count": 5,
   "metadata": {
    "collapsed": false
   },
   "outputs": [],
   "source": [
    "var regressionMetrics = new RegressionMetrics(ratesAndPreds);\n"
   ]

  },
   {
   "cell_type": "markdown",
   "metadata": {},
   "source": [
    " Root mean squared error\n"
   ]

  },
  {
   "cell_type": "code",
   "execution_count": 6,
   "metadata": {
    "collapsed": false
   },
   "outputs": [],
   "source": [
    "print(\"RMSE = \" + regressionMetrics.rootMeanSquaredError());\n"
   ]

  },
   {
   "cell_type": "markdown",
   "metadata": {},
   "source": [
    " R-squared\n"
   ]
  }
 ],
 "metadata": {
  "kernelspec": {
   "display_name": "Spark 1.6.1 (Javascript)",
   "language": "javascript",
   "name": "eclair"
  },
  "language_info": {
   "name": "scala"
  }
 },
 "nbformat": 4,
 "nbformat_minor": 0
}