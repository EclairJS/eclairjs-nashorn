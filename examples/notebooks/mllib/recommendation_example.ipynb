
{
 "cells": [
      
  {
   "cell_type": "code",
   "execution_count": 1,
   "metadata": {
    "collapsed": false
   },
   "outputs": [],
   "source": [
    "    var sparkConf = new SparkConf().setAppName(\"Collaborative Filtering Example\");\n",
    "    var sc = new SparkContext(sparkConf);\n",
    "    var results = run(sc);\n",
    "    print(\"Mean Squared Error = \" + results.MSE);\n"
   ]

  },
   {
   "cell_type": "markdown",
   "metadata": {},
   "source": [
    " Save and load model\n"
   ]

  },
  {
   "cell_type": "code",
   "execution_count": 2,
   "metadata": {
    "collapsed": false
   },
   "outputs": [],
   "source": [
    "    results.model.save(sc, \"target\/tmp\/myCollaborativeFilter\");\n",
    "    var sameModel = MatrixFactorizationModel.load(sc,\n",
    "        \"target\/tmp\/myCollaborativeFilter\");\n"
   ]

  },
  {
   "cell_type": "code",
   "execution_count": 3,
   "metadata": {
    "collapsed": false
   },
   "outputs": [],
   "source": [
    "    sc.stop();\n"
   ]
  }
 ],
 "metadata": {
  "kernelspec": {
   "display_name": "Spark 1.6.1 (Javascript)",
   "language": "javascript",
   "name": "eclair"
  },
  "language_info": {
   "name": "scala"
  }
 },
 "nbformat": 4,
 "nbformat_minor": 0
}