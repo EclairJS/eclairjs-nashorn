
{
 "cells": [
      
   {
   "cell_type": "markdown",
   "metadata": {},
   "source": [
    "\n",
    "This example uses text8 file from http:\/\/mattmahoney.net\/dc\/text8.zip\n",
    "The file was downloadded, unziped and split into multiple lines using\n",
    "\n",
    "wget http:\/\/mattmahoney.net\/dc\/text8.zip\n",
    "unzip text8.zip\n",
    "grep -o -E '\\w+(\\W+\\w+){0,15}' text8 > text8_lines\n",
    "This was done so that the example can be run in local mode\n",
    "NOTE: this example can take 5-10 minutes to run\n",
    "\n"
   ]

  },
  {
   "cell_type": "code",
   "execution_count": 1,
   "metadata": {
    "collapsed": false
   },
   "outputs": [],
   "source": [
    "var USAGE = \"bin\/eclairjs examples\/mllib\/word2vec.js text8_lines\";\n",
    "\n",
    "if (args.length < 2) {\n",
    "    print(USAGE);\n",
    "    exit(1);\n",
    "}\n",
    "\n",
    "var file_path = args[1];\n",
    "var conf = new SparkConf().setAppName(\"Word2Vec\");\n",
    "var sc = new SparkContext(conf);\n",
    "var inp = sc.textFile(file_path).map(function(s) {\n",
    "    return new List(s.split(\" \"));\n",
    "});\n",
    "\n",
    "var word2vec = new Word2Vec();\n",
    "\n",
    "var model = word2vec.fit(inp)\n",
    "\n",
    "var synonyms = model.findSynonyms('china', 40);\n",
    "synonyms.forEach(function(item){\n",
    "    var word = item[0];\n",
    "    var cosine_distance = item[1];\n",
    "    print(word + \", \" + cosine_distance);\n",
    "})\n",
    "\n",
    "sc.stop()\n"
   ]
  }
 ],
 "metadata": {
  "kernelspec": {
   "display_name": "Spark 1.6.1 (Javascript)",
   "language": "javascript",
   "name": "eclair"
  },
  "language_info": {
   "name": "scala"
  }
 },
 "nbformat": 4,
 "nbformat_minor": 0
}