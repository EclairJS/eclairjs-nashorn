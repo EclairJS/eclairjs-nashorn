
{
 "cells": [
      
  {
   "cell_type": "code",
   "execution_count": 1,
   "metadata": {
    "collapsed": false
   },
   "outputs": [],
   "source": [
    "    var sparkConf = new SparkConf().setAppName(\"JavaScriptAssociationRulesExample\");\n",
    "    var sc = new SparkContext(sparkConf);\n",
    "\n",
    "    var freqItemsets = sc.parallelize([\n",
    "        new FreqItemset([\"a\"], 15),\n",
    "        new FreqItemset([\"b\"], 35),\n",
    "        new FreqItemset([\"a\",\"b\"], 12)\n",
    "    ]);\n",
    "\n",
    "    var arules = new AssociationRules()\n",
    "        .setMinConfidence(0.8);\n",
    "    var results = arules.run(freqItemsets);\n",
    "    var rules = results.collect();\n",
    "    var str = \"\";\n",
    "    rules.forEach(function(rule){\n",
    "        str += rule.antecedent() + \" => \" + rule.consequent() + \", \" + rule.confidence();\n",
    "    });\n",
    "var result = str;\n",
    "    print(result);\n",
    "}\n"
   ]
  }
 ],
 "metadata": {
  "kernelspec": {
   "display_name": "Spark 1.6.1 (Javascript)",
   "language": "javascript",
   "name": "eclair"
  },
  "language_info": {
   "name": "scala"
  }
 },
 "nbformat": 4,
 "nbformat_minor": 0
}