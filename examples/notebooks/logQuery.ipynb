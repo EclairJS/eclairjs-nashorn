
{
 "cells": [
      
  {
   "cell_type": "code",
   "execution_count": 1,
   "metadata": {
    "collapsed": false
   },
   "outputs": [],
   "source": [
    "\n",
    "var exampleApacheLogs = [\n",
    "    \"10.10.10.10 - \\\"FRED\\\" [18\/Jan\/2013:17:56:07 +1100] \\\"GET http:\/\/images.com\/2013\/Generic.jpg \" +\n",
    "    \"HTTP\/1.1\\\" 304 315 \\\"http:\/\/referall.com\/\\\" \\\"Mozilla\/4.0 (compatible; MSIE 7.0; \" +\n",
    "    \"Windows NT 5.1; GTB7.4; .NET CLR 2.0.50727; .NET CLR 3.0.04506.30; .NET CLR 3.0.04506.648; \" +\n",
    "    \".NET CLR 3.5.21022; .NET CLR 3.0.4506.2152; .NET CLR 1.0.3705; .NET CLR 1.1.4322; .NET CLR \" +\n",
    "    \"3.5.30729; Release=ARP)\\\" \\\"UD-1\\\" - \\\"image\/jpeg\\\" \\\"whatever\\\" 0.350 \\\"-\\\" - \\\"\\\" 265 923 934 \\\"\\\" \" +\n",
    "    \"62.24.11.25 images.com 1358492167 - Whatup\",\n",
    "    \"10.10.10.10 - \\\"FRED\\\" [18\/Jan\/2013:18:02:37 +1100] \\\"GET http:\/\/images.com\/2013\/Generic.jpg \" +\n",
    "    \"HTTP\/1.1\\\" 304 306 \\\"http:\/referall.com\\\" \\\"Mozilla\/4.0 (compatible; MSIE 7.0; Windows NT 5.1; \" +\n",
    "    \"GTB7.4; .NET CLR 2.0.50727; .NET CLR 3.0.04506.30; .NET CLR 3.0.04506.648; .NET CLR \" +\n",
    "    \"3.5.21022; .NET CLR 3.0.4506.2152; .NET CLR 1.0.3705; .NET CLR 1.1.4322; .NET CLR  \" +\n",
    "    \"3.5.30729; Release=ARP)\\\" \\\"UD-1\\\" - \\\"image\/jpeg\\\" \\\"whatever\\\" 0.352 \\\"-\\\" - \\\"\\\" 256 977 988 \\\"\\\" \" +\n",
    "    \"0 73.23.2.15 images.com 1358492557 - Whatup\"];\n"
   ]

  },
  {
   "cell_type": "code",
   "execution_count": 2,
   "metadata": {
    "collapsed": false
   },
   "outputs": [],
   "source": [
    "var apacheLogRegex =\n",
    "    \/^([\\d.]+) (\\S+) (\\S+) \\[([\\w\\d:\/]+\\s[+\\-]\\d{4})\\] \"(.+?)\" (\\d{3}) ([\\d\\-]+) \"([^\"]+)\" \"([^\"]+)\"\/;\n"
   ]

  },
  {
   "cell_type": "code",
   "execution_count": 3,
   "metadata": {
    "collapsed": false
   },
   "outputs": [],
   "source": [
    "var dataSet =  null;\n",
    "    var conf = new SparkConf().setAppName(\"JavaScript Log Query\");\n",
    "    var sc = new SparkContext(conf);\n",
    "\n",
    "    var dataSet = file? sc.textFile(file) : sc.parallelize(exampleApacheLogs);\n",
    "\n",
    "    var extracted = dataSet.mapToPair(function (line) {\n",
    "\n",
    "\n",
    "        var apacheLogRegex =\n",
    "            \/^([\\d.]+) (\\S+) (\\S+) \\[([\\w\\d:\/]+\\s[+\\-]\\d{4})\\] \"(.+?)\" (\\d{3}) ([\\d\\-]+) \"([^\"]+)\" \"([^\"]+)\"\/;\n",
    "\n",
    "\/\/\n",
    "\/\/      Lamba functions cannot call other functions,  copy those functions inline\n",
    "\/\/\n",
    "        function extractStats(line) {\n",
    "            var match = line.match(apacheLogRegex);\n",
    "            if (match) {\n",
    "                var bytes = 0 + match[7];\n",
    "                return {count: 1, bytes: bytes};\n",
    "            } else {\n",
    "                return {count: 1, bytes: 0};\n",
    "            }\n",
    "\n",
    "        }\n",
    "\n",
    "\n",
    "        function extractKey(line) {\n",
    "            var match = line.match(apacheLogRegex);\n",
    "            if (match) {\n",
    "                var ip = match[1];\n",
    "                var user = match[3];\n",
    "                var query = match[5];\n",
    "                if (user != '\"-\"') {\n",
    "                    return {ip: ip, user: user, query: query};\n",
    "                }\n",
    "            }\n",
    "            return {ip: null, user: null, query: null};\n",
    "        }\n",
    "\n",
    "        var key = extractKey(line);\n",
    "        var stats = extractStats(line);\n",
    "        return new Tuple(key, stats);\n",
    "    });\n",
    "\n",
    "    var counts = extracted.reduceByKey(function (stats1, stats2) {\n",
    "        return {\n",
    "            count: parseInt(stats1.count) + parseInt(stats2.count),\n",
    "            bytes: parseInt(stats1.bytes) + parseInt(stats2.bytes)\n",
    "        };\n",
    "    });\n",
    "\n",
    "    var output = counts.collect();\n",
    "var result = output;\n",
    "    for (var i = 0; i < result.length; i++) {\n",
    "        var key = result[i][0];\n",
    "        var stats = result[i][1];\n",
    "        print(\"user=\" + key.user + \"\\tbytes=\" + stats.bytes + \"\\tn=\" + stats.count);\n",
    "    }\n",
    "\n",
    "    sc.stop();\n"
   ]
  }
 ],
 "metadata": {
  "kernelspec": {
   "display_name": "Spark 1.6.1 (Javascript)",
   "language": "javascript",
   "name": "eclair"
  },
  "language_info": {
   "name": "scala"
  }
 },
 "nbformat": 4,
 "nbformat_minor": 0
}