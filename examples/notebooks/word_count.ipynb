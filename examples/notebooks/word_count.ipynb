
{
 "cells": [
      
  {
   "cell_type": "code",
   "execution_count": 1,
   "metadata": {
    "collapsed": false
   },
   "outputs": [],
   "source": [
    "    var conf = new SparkConf().setAppName(\"JavaScript word count\");\n",
    "    var sc = new SparkContext(conf);\n",
    "\n",
    "var file =  \".\/..\/data\/dream.txt\";\n"
   ]

  },
  {
   "cell_type": "code",
   "execution_count": 2,
   "metadata": {
    "collapsed": false
   },
   "outputs": [],
   "source": [
    "\n",
    "    var rdd = sparkContext.textFile(file).cache();\n"
   ]

  },
  {
   "cell_type": "code",
   "execution_count": 3,
   "metadata": {
    "collapsed": false
   },
   "outputs": [],
   "source": [
    "    var rdd2 = rdd.flatMap(function (sentence) {\n",
    "        return sentence.split(\" \");\n",
    "    });\n",
    "\n",
    "    var rdd3 = rdd2.filter(function (word) {\n",
    "        return word.trim().length > 0;\n",
    "    });\n",
    "\n",
    "    var rdd4 = rdd3.mapToPair(function (word) {\n",
    "        return new Tuple(word, 1);\n",
    "    });\n",
    "\n",
    "    var rdd5 = rdd4.reduceByKey(function (a, b) {\n",
    "        return a + b;\n",
    "    });\n",
    "\n",
    "    var rdd6 = rdd5.mapToPair(function (tuple) {\n",
    "        return new Tuple(tuple[1] + 0.0, tuple[0]);\n",
    "    })\n",
    "\n",
    "    var rdd7 = rdd6.sortByKey(false);\n",
    "var result = JSON.stringify(rdd7.take(10));\n",
    "    print(\"top 10 words = \" + result);\n",
    "\n",
    "    sc.stop();\n"
   ]
  }
 ],
 "metadata": {
  "kernelspec": {
   "display_name": "Spark 1.6.1 (Javascript)",
   "language": "javascript",
   "name": "eclair"
  },
  "language_info": {
   "name": "scala"
  }
 },
 "nbformat": 4,
 "nbformat_minor": 0
}