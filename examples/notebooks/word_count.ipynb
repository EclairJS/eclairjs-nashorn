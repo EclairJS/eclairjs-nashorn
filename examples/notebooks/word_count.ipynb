{
 "cells": [
  {
   "cell_type": "code",
   "execution_count": 7,
   "metadata": {
    "collapsed": false
   },
   "outputs": [],
   "source": [
    "var SparkContext = require('eclairjs/SparkContext');\n",
    "var sc = new SparkContext(\"local[*]\", \"JavaScript word count\");\n"
   ]
  },
  {
   "cell_type": "code",
   "execution_count": 8,
   "metadata": {
    "collapsed": false
   },
   "outputs": [
    {
     "data": {
      "text/plain": [
       "119"
      ]
     },
     "execution_count": 8,
     "metadata": {},
     "output_type": "execute_result"
    }
   ],
   "source": [
    "var file = \"../data/dream.txt\";\n",
    "\n",
    "var rdd = sc.textFile(file).cache();\n",
    "rdd.count();\n"
   ]
  },
  {
   "cell_type": "code",
   "execution_count": 9,
   "metadata": {
    "collapsed": true
   },
   "outputs": [],
   "source": [
    "\n",
    "var rdd2 = rdd.flatMap(function(sentence) {\n",
    "    return sentence.split(\" \");\n",
    "});\n"
   ]
  },
  {
   "cell_type": "code",
   "execution_count": 10,
   "metadata": {
    "collapsed": true
   },
   "outputs": [],
   "source": [
    "var rdd3 = rdd2.filter(function(word) {\n",
    "    return word.trim().length > 0;\n",
    "});\n"
   ]
  },
  {
   "cell_type": "code",
   "execution_count": 11,
   "metadata": {
    "collapsed": false
   },
   "outputs": [],
   "source": [
    "var rdd4 = rdd3.mapToPair(function(word) {\n",
    "    var Tuple2 = require('eclairjs/Tuple2');\n",
    "    return new Tuple2(word, 1);\n",
    "});\n"
   ]
  },
  {
   "cell_type": "code",
   "execution_count": 12,
   "metadata": {
    "collapsed": false
   },
   "outputs": [],
   "source": [
    "var rdd5 = rdd4.reduceByKey(function(a, b) {\n",
    "    return a + b;\n",
    "});\n"
   ]
  },
  {
   "cell_type": "code",
   "execution_count": 13,
   "metadata": {
    "collapsed": false
   },
   "outputs": [],
   "source": [
    "var rdd6 = rdd5.mapToPair(function(tuple) {\n",
    "    Tuple2 = require('eclairjs/Tuple2');\n",
    "    return new Tuple2(tuple._2()+0.0, tuple._1());\n",
    "})\n"
   ]
  },
  {
   "cell_type": "code",
   "execution_count": 14,
   "metadata": {
    "collapsed": false
   },
   "outputs": [
    {
     "data": {
      "text/plain": [
       "[{\"0\":34,\"1\":\"of\",\"length\":2},{\"0\":30,\"1\":\"the\",\"length\":2},{\"0\":19,\"1\":\"be\",\"length\":2},{\"0\":19,\"1\":\"to\",\"length\":2},{\"0\":19,\"1\":\"and\",\"length\":2},{\"0\":15,\"1\":\"will\",\"length\":2},{\"0\":12,\"1\":\"from\",\"length\":2},{\"0\":12,\"1\":\"I\",\"length\":2},{\"0\":11,\"1\":\"freedom\",\"length\":2},{\"0\":10,\"1\":\"that\",\"length\":2}]"
      ]
     },
     "execution_count": 14,
     "metadata": {},
     "output_type": "execute_result"
    }
   ],
   "source": [
    "var rdd7 = rdd6.sortByKey(false);\n",
    "JSON.stringify(rdd7.take(10))"
   ]
  },
  {
   "cell_type": "code",
   "execution_count": null,
   "metadata": {
    "collapsed": true
   },
   "outputs": [],
   "source": []
  }
 ],
 "metadata": {
  "kernelspec": {
   "display_name": "Spark 1.6.0 (EclairJS)",
   "language": "javascript",
   "name": "eclair"
  },
  "language_info": {
   "name": "scala"
  }
 },
 "nbformat": 4,
 "nbformat_minor": 0
}
