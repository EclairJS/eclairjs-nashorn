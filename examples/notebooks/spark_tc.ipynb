
{
 "cells": [
      
  {
   "cell_type": "code",
   "execution_count": 1,
   "metadata": {
    "collapsed": false
   },
   "outputs": [],
   "source": [
    "\n",
    "var numEdges = 200;\n",
    "var numVertices = 50;\n"
   ]

  },
  {
   "cell_type": "code",
   "execution_count": 2,
   "metadata": {
    "collapsed": false
   },
   "outputs": [],
   "source": [
    "    var slices =  2;\n",
    "    var conf = new SparkConf().setAppName(\"JavaScript transitive closure\");\n",
    "    var sc = new SparkContext(conf);\n",
    "\n",
    "var slices = slices ? 0+slices: 2;\n",
    "var tc = sc.parallelizePairs(generateGraph(), slices).cache();\n"
   ]

  },
   {
   "cell_type": "markdown",
   "metadata": {},
   "source": [
    " Linear transitive closure: each round grows paths by one edge,\n",
    " by joining the graph's edges with the already-discovered paths.\n",
    " e.g. join the path (y, z) from the TC with the edge (x, y) from\n",
    " the graph to obtain the path (x, z).\n"
   ]

  },
   {
   "cell_type": "markdown",
   "metadata": {},
   "source": [
    " Because join() joins on keys, the edges are stored in reversed order.\n"
   ]

  },
  {
   "cell_type": "code",
   "execution_count": 3,
   "metadata": {
    "collapsed": false
   },
   "outputs": [],
   "source": [
    "var edges = tc.mapToPair(function(tuple) {\n",
    "    return new Tuple(tuple[1], tuple[0]);\n",
    "});\n"
   ]

  },
  {
   "cell_type": "code",
   "execution_count": 4,
   "metadata": {
    "collapsed": false
   },
   "outputs": [],
   "source": [
    "var oldCount;\n",
    "var nextCount = tc.count();\n",
    "do {\n",
    "    oldCount = nextCount;\n",
    "    \/\/ Perform the join, obtaining an RDD of (y, (z, x)) pairs,\n",
    "    \/\/ then project the result to obtain the new (x, z) paths.\n",
    "    tc = tc.union(tc.join(edges).mapToPair(function(triple){\n",
    "        return new Tuple(triple[1][1],triple[1][0]);\n",
    "    })).distinct().cache();\n",
    "    nextCount = tc.count();\n",
    "\n",
    "} while (nextCount != oldCount);\n",
    "\n",
    "var result = tc.count();\n",
    "    print(\"TC has \" + result + \" edges.\");\n",
    "\n",
    "    sc.stop();\n"
   ]
  }
 ],
 "metadata": {
  "kernelspec": {
   "display_name": "Spark 1.6.1 (Javascript)",
   "language": "javascript",
   "name": "eclair"
  },
  "language_info": {
   "name": "scala"
  }
 },
 "nbformat": 4,
 "nbformat_minor": 0
}