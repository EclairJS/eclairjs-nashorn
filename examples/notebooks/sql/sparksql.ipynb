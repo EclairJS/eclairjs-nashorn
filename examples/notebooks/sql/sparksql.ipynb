
{
 "cells": [
      
  {
   "cell_type": "code",
   "execution_count": 1,
   "metadata": {
    "collapsed": false
   },
   "outputs": [],
   "source": [
    "\n",
    "var sparkConf = new SparkConf().setAppName(\"JavaScriptSparkSQL\");\n",
    "var ctx = new SparkContext(sparkConf);\n",
    "var sqlContext = new SQLContext(ctx);\n"
   ]

  },
  {
   "cell_type": "code",
   "execution_count": 2,
   "metadata": {
    "collapsed": false
   },
   "outputs": [],
   "source": [
    "var filename =  \"..\/data\/people.txt\";\n",
    "var jsonFile = \"..\/data\/test.json\"\n"
   ]

  },
   {
   "cell_type": "markdown",
   "metadata": {},
   "source": [
    " Load a text file and convert each line to a JavaScript Object.\n"
   ]

  },
  {
   "cell_type": "code",
   "execution_count": 3,
   "metadata": {
    "collapsed": false
   },
   "outputs": [],
   "source": [
    "var people = ctx.textFile(filename).map(function(line) {\n",
    "    var parts = line.split(\",\");\n",
    "    return person = {\n",
    "                    name: parts[0],\n",
    "                    age: parseInt(parts[1].trim())\n",
    "            };\n",
    "});\n"
   ]

  },
   {
   "cell_type": "markdown",
   "metadata": {},
   "source": [
    "Generate the schema\n"
   ]

  },
  {
   "cell_type": "code",
   "execution_count": 4,
   "metadata": {
    "collapsed": false
   },
   "outputs": [],
   "source": [
    "var fields = [];\n",
    "fields.push(DataTypes.createStructField(\"name\", DataTypes.StringType, true));\n",
    "fields.push(DataTypes.createStructField(\"age\", DataTypes.IntegerType, true));\n",
    "var schema = DataTypes.createStructType(fields);\n"
   ]

  },
   {
   "cell_type": "markdown",
   "metadata": {},
   "source": [
    " Convert records of the RDD (people) to Rows.\n"
   ]

  },
  {
   "cell_type": "code",
   "execution_count": 5,
   "metadata": {
    "collapsed": false
   },
   "outputs": [],
   "source": [
    "var rowRDD = people.map(function(person){\n",
    "    return RowFactory.create([person.name, person.age]);\n",
    "});\n"
   ]

  },
   {
   "cell_type": "markdown",
   "metadata": {},
   "source": [
    "Apply the schema to the RDD.\n"
   ]

  },
  {
   "cell_type": "code",
   "execution_count": 6,
   "metadata": {
    "collapsed": false
   },
   "outputs": [],
   "source": [
    "var peopleDataFrame = sqlContext.createDataFrame(rowRDD, schema);\n"
   ]

  },
   {
   "cell_type": "markdown",
   "metadata": {},
   "source": [
    " Register the DataFrame as a table.\n"
   ]

  },
  {
   "cell_type": "code",
   "execution_count": 7,
   "metadata": {
    "collapsed": false
   },
   "outputs": [],
   "source": [
    "peopleDataFrame.registerTempTable(\"people\");\n"
   ]

  },
   {
   "cell_type": "markdown",
   "metadata": {},
   "source": [
    " SQL can be run over RDDs that have been registered as tables.\n"
   ]

  },
  {
   "cell_type": "code",
   "execution_count": 8,
   "metadata": {
    "collapsed": false
   },
   "outputs": [],
   "source": [
    "var results = sqlContext.sql(\"SELECT name FROM people\");\n"
   ]

  },
   {
   "cell_type": "markdown",
   "metadata": {},
   "source": [
    "The results of SQL queries are DataFrames and support all the normal RDD operations.\n",
    "The columns of a row in the result can be accessed by ordinal.\n"
   ]

  },
  {
   "cell_type": "code",
   "execution_count": 9,
   "metadata": {
    "collapsed": false
   },
   "outputs": [],
   "source": [
    "var names = results.toRDD().map(function(row) {\n",
    "    return \"Name: \" + row.getString(0);\n",
    "});\n",
    "\n",
    "print(\"names = \" + names.take(10));\n",
    "var dataFrame = sqlContext.read().json(jsonFile);\n",
    "var gd = dataFrame.groupBy(dataFrame.col(\"first\"));\n",
    "var df2 = gd.count();\n"
   ]

  },
  {
   "cell_type": "code",
   "execution_count": 10,
   "metadata": {
    "collapsed": false
   },
   "outputs": [],
   "source": [
    "df2.show();\n",
    "df2.count();\n"
   ]
  }
 ],
 "metadata": {
  "kernelspec": {
   "display_name": "Spark 1.6.1 (Javascript)",
   "language": "javascript",
   "name": "eclair"
  },
  "language_info": {
   "name": "scala"
  }
 },
 "nbformat": 4,
 "nbformat_minor": 0
}