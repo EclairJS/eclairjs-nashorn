{
 "cells": [
  {
   "cell_type": "markdown",
   "metadata": {},
   "source": [
    "# Movie recommder example\n",
    "this example is a EclairJS (JavaScript) implementation of [movie recommending](https://github.com/jadianes/spark-movie-lens/blob/master/notebooks/building-recommender.ipynb). \n",
    "#### This notebook requires the following additional setup\n",
    "* Download the [movieLens rating dataset](http://grouplens.org/datasets/movielens/)\n",
    "    *[ml-latest-small.zip](http://files.grouplens.org/datasets/movielens/ml-latest-small.zip) \n",
    "    *[ml-latest.zip](http://files.grouplens.org/datasets/movielens/ml-latest.zip) and unzip is a location that is accessible by Spark.\n",
    "* Add the following options to the eclairjs/kernel.jon SPARK_OPTS\n",
    "````\n",
    "\"SPARK_OPTS\": \"--driver-memory 4g --executor-memory 4g ...\"\n",
    "````"
   ]
  },
  {
   "cell_type": "markdown",
   "metadata": {},
   "source": [
    "## Create the spark context and globals"
   ]
  },
  {
   "cell_type": "code",
   "execution_count": 1,
   "metadata": {
    "collapsed": false
   },
   "outputs": [],
   "source": [
    "var SparkContext = require('eclairjs/SparkContext');\n",
    "var sc = new SparkContext(\"local[*]\", \"myapp\");\n",
    "\n",
    "var Tuple2 = require('eclairjs/Tuple2');\n",
    "var Tuple3 = require('eclairjs/Tuple3');\n",
    "var ALS = require('eclairjs/mllib/recommendation/ALS');\n",
    "var Rating = require('eclairjs/mllib/recommendation/Rating');\n",
    "\n"
   ]
  },
  {
   "cell_type": "markdown",
   "metadata": {},
   "source": [
    "## Set the path to the movieLens Datasets\n"
   ]
  },
  {
   "cell_type": "code",
   "execution_count": 2,
   "metadata": {
    "collapsed": true
   },
   "outputs": [],
   "source": [
    "var pathToSmallDataset = '../data/mllib/ml-latest-small';\n",
    "var pathToCompleteDataset = '../data/mllib/ml-latest';"
   ]
  },
  {
   "cell_type": "markdown",
   "metadata": {},
   "source": [
    "## load the small rating dataset"
   ]
  },
  {
   "cell_type": "code",
   "execution_count": 3,
   "metadata": {
    "collapsed": false
   },
   "outputs": [
    {
     "data": {
      "text/plain": [
       "[{\"user\":1,\"product\":16,\"rating\":4},{\"user\":1,\"product\":24,\"rating\":1.5},{\"user\":1,\"product\":32,\"rating\":4}]"
      ]
     },
     "execution_count": 3,
     "metadata": {},
     "output_type": "execute_result"
    }
   ],
   "source": [
    "var small_ratings_raw_data = sc.textFile(pathToSmallDataset + '/ratings.csv');\n",
    "var small_ratings_raw_data_header = small_ratings_raw_data.take(1)[0];\n",
    "var small_ratings_data = small_ratings_raw_data\n",
    "    .filter(function(line, small_ratings_raw_data_header) {\n",
    "        // filters out the header\n",
    "        return line != small_ratings_raw_data_header;\n",
    "    }, [small_ratings_raw_data_header])\n",
    "    .map(function(line, Rating) {\n",
    "        var tokens = line.split(\",\");\n",
    "         return new Rating(tokens[0],tokens[1],tokens[2]);\n",
    "    },[Rating])\n",
    "    .cache();\n",
    "\n",
    "JSON.stringify(small_ratings_data.take(3));"
   ]
  },
  {
   "cell_type": "markdown",
   "metadata": {},
   "source": [
    "## load the small moving dataset"
   ]
  },
  {
   "cell_type": "code",
   "execution_count": 4,
   "metadata": {
    "collapsed": false
   },
   "outputs": [
    {
     "data": {
      "text/plain": [
       "[{\"0\":1,\"1\":\"Toy Story (1995)\",\"length\":2},{\"0\":2,\"1\":\"Jumanji (1995)\",\"length\":2},{\"0\":3,\"1\":\"Grumpier Old Men (1995)\",\"length\":2}]"
      ]
     },
     "execution_count": 4,
     "metadata": {},
     "output_type": "execute_result"
    }
   ],
   "source": [
    "var small_movies_raw_data = sc.textFile(pathToSmallDataset + '/movies.csv');\n",
    "var small_movies_raw_data_header = small_movies_raw_data.take(1)[0];\n",
    "var small_movies_data = small_movies_raw_data\n",
    "    .filter(function(line, small_movies_raw_data_header) {\n",
    "        // filters out the header\n",
    "        return line != small_movies_raw_data_header;\n",
    "    }, [small_movies_raw_data_header])\n",
    "    .map(function(line, Tuple2) {\n",
    "        var fields = line.split(\",\");\n",
    "        return new Tuple2(parseInt(fields[0]), fields[1]);\n",
    "    }, [Tuple2])\n",
    "    .cache();\n",
    "\n",
    "var small_movies_titles = small_movies_data\n",
    "    .mapToPair(function( tuple2, Tuple2) { // Tuple2\n",
    "        return new Tuple2(tuple2[0], tuple2[1]);\n",
    "    }, [Tuple2]);\n",
    "JSON.stringify(small_movies_data.take(3));"
   ]
  },
  {
   "cell_type": "markdown",
   "metadata": {},
   "source": [
    "## Selecting ALS parameters using the small dataset\n",
    "In order to determine the best ALS parameters, we will use the small dataset. We need first to split it into train, validation, and test datasets."
   ]
  },
  {
   "cell_type": "code",
   "execution_count": 5,
   "metadata": {
    "collapsed": false
   },
   "outputs": [
    {
     "data": {
      "text/plain": [
       "[{\"0\":1,\"1\":50,\"length\":2},{\"0\":1,\"1\":161,\"length\":2},{\"0\":1,\"1\":356,\"length\":2}]"
      ]
     },
     "execution_count": 5,
     "metadata": {},
     "output_type": "execute_result"
    }
   ],
   "source": [
    "var seed = 0;\n",
    "var split = small_ratings_data.randomSplit([0.6, 0.2, 0.2], seed)\n",
    "var training_RDD = split[0];\n",
    "var validation_RDD = split[1];\n",
    "var test_RDD = split[2];\n",
    "\n",
    "var  validation_for_predict_RDD = validation_RDD\n",
    "    .map(function(rating, Tuple2) {\n",
    "        return new Tuple2(rating.user(), rating.product());\n",
    "    }, [Tuple2]);\n",
    "JSON.stringify(validation_for_predict_RDD.take(3));"
   ]
  },
  {
   "cell_type": "markdown",
   "metadata": {},
   "source": [
    "## Proceed with the training phase."
   ]
  },
  {
   "cell_type": "code",
   "execution_count": 7,
   "metadata": {
    "collapsed": false
   },
   "outputs": [
    {
     "data": {
      "text/plain": [
       "The best model was trained with rank 4"
      ]
     },
     "execution_count": 7,
     "metadata": {},
     "output_type": "execute_result"
    }
   ],
   "source": [
    "seed = 5\n",
    "var iterations = 10\n",
    "var regularization_parameter = 0.1\n",
    "var ranks = [4, 8, 12];\n",
    "var errors = [0, 0, 0];\n",
    "var err = 0\n",
    "var tolerance = 0.02\n",
    "\n",
    "var min_error = Number.POSITIVE_INFINITY\n",
    "var best_rank = -1\n",
    "var best_iteration = -1\n",
    "var blocks = -1;\n",
    "var lambda = regularization_parameter;\n",
    "\n",
    "ranks.forEach(function(rank) {\n",
    "    var model = ALS.train(training_RDD, rank, iterations, regularization_parameter, blocks, seed);\n",
    "    var predictions = model.predict(validation_for_predict_RDD)\n",
    "        .mapToPair(function(rating, Tuple2) {\n",
    "            return new Tuple2(new Tuple2(rating.user(), rating.product()), rating.rating());\n",
    "        }, [Tuple2]);\n",
    "\n",
    "    var rates_and_preds = validation_RDD\n",
    "        .mapToPair(function(rating, Tuple2) {\n",
    "            return new Tuple2(new Tuple2(rating.user(), rating.product()), rating.rating());\n",
    "        }, [Tuple2])\n",
    "        .join(predictions);\n",
    "\n",
    "    var t = rates_and_preds\n",
    "        .mapToFloat(function(tuple) {\n",
    "            var y =tuple._2()._1() - tuple._2()._2();\n",
    "            return Math.pow(y, 2);\n",
    "        });\n",
    "    var error = Math.sqrt(t.mean());\n",
    "    errors[err] = error;\n",
    "    err += 1;\n",
    "    if (error < min_error) {\n",
    "        min_error = error;\n",
    "        best_rank = rank;\n",
    "    }\n",
    "\n",
    "});\n",
    "\n",
    "\"The best model was trained with rank \" +best_rank;"
   ]
  },
  {
   "cell_type": "markdown",
   "metadata": {},
   "source": [
    "## To build our recommender model, we will use the complete dataset."
   ]
  },
  {
   "cell_type": "code",
   "execution_count": 8,
   "metadata": {
    "collapsed": false
   },
   "outputs": [
    {
     "name": "stdout",
     "output_type": "stream",
     "text": [
      "[Stage 492:=================================================>     (17 + 2) / 19]"
     ]
    },
    {
     "data": {
      "text/plain": [
       "\"There are recommendations in the complete dataset:  22884377\""
      ]
     },
     "execution_count": 8,
     "metadata": {},
     "output_type": "execute_result"
    }
   ],
   "source": [
    "\n",
    "var complete_ratings_raw_data = \n",
    "    sc.textFile(pathToCompleteDataset + '/ratings.csv');\n",
    "var complete_ratings_raw_data_header = complete_ratings_raw_data.take(1)[0];\n",
    "\n",
    "var complete_ratings_data = complete_ratings_raw_data\n",
    "    .filter(function (line, complete_ratings_raw_data_header) {\n",
    "        return line != complete_ratings_raw_data_header;\n",
    "    }, [complete_ratings_raw_data_header])\n",
    "    .map(function( line, Rating) {\n",
    "        var fields = line.split(\",\");\n",
    "        var userId = parseInt(fields[0]);\n",
    "        var movieId = parseInt(fields[1]);\n",
    "        var rating = parseFloat(fields[2]);\n",
    "        return new Rating(userId, movieId, rating);\n",
    "    }, [Rating])\n",
    "    .cache();\n",
    "\n",
    "JSON.stringify(\"There are recommendations in the complete dataset:  \" + complete_ratings_data.count());"
   ]
  },
  {
   "cell_type": "markdown",
   "metadata": {},
   "source": [
    "## We test on our testing set."
   ]
  },
  {
   "cell_type": "code",
   "execution_count": 9,
   "metadata": {
    "collapsed": false
   },
   "outputs": [
    {
     "name": "stdout",
     "output_type": "stream",
     "text": [
      "[Stage 631:====================================================>  (18 + 1) / 19]"
     ]
    },
    {
     "data": {
      "text/plain": [
       "\"For testing data the RMSE is 0.8306052754653492\""
      ]
     },
     "execution_count": 9,
     "metadata": {},
     "output_type": "execute_result"
    }
   ],
   "source": [
    "var splits2 = complete_ratings_data.randomSplit([0.7, 0.3], 0);\n",
    "training_RDD = splits2[0];\n",
    "test_RDD = splits2[1];\n",
    "\n",
    "var complete_model = ALS.train(training_RDD, best_rank, iterations, regularization_parameter, blocks, seed);\n",
    "\n",
    "var test_for_predict_RDD = test_RDD\n",
    "    .map(function (rating, Tuple2) {\n",
    "        return new Tuple2(rating.user(), rating.product());\n",
    "    }, [Tuple2]);\n",
    "\n",
    "var predictions = complete_model.predict(test_for_predict_RDD)\n",
    "    .mapToPair(function( rating, Tuple2) {\n",
    "        return new Tuple2(new Tuple2(rating.user(), rating.product()), rating.rating());\n",
    "    }, [Tuple2]);\n",
    "\n",
    "var rates_and_preds = test_RDD\n",
    "    .mapToPair(function( rating, Tuple2) {\n",
    "        return new Tuple2(new Tuple2(rating.user(), rating.product()), rating.rating());\n",
    "    }, [Tuple2])\n",
    "    .join(predictions);\n",
    "\n",
    "var t = rates_and_preds\n",
    "    .mapToFloat( function( x) {\n",
    "        return Math.pow(x._2()._1() - x._2()._2(), 2);\n",
    "    });\n",
    "var error = Math.sqrt(t.mean());\n",
    "JSON.stringify(\"For testing data the RMSE is \" + error);"
   ]
  },
  {
   "cell_type": "markdown",
   "metadata": {},
   "source": [
    "## How to make recommendations\n",
    " So let's first load the movies complete file for later use."
   ]
  },
  {
   "cell_type": "code",
   "execution_count": 10,
   "metadata": {
    "collapsed": false
   },
   "outputs": [
    {
     "data": {
      "text/plain": [
       "\"There are movies in the complete dataset 34208\""
      ]
     },
     "execution_count": 10,
     "metadata": {},
     "output_type": "execute_result"
    }
   ],
   "source": [
    "\n",
    "var complete_movies_raw_data = \n",
    "    sc.textFile(pathToCompleteDataset + '/movies.csv');\n",
    "var complete_movies_raw_data_header = complete_movies_raw_data.take(1)[0];\n",
    "var complete_movies_data = complete_movies_raw_data\n",
    "    .filter(function(line, complete_movies_raw_data_header) {\n",
    "        // filters out the header\n",
    "        return line != complete_movies_raw_data_header;\n",
    "    }, [complete_movies_raw_data_header])\n",
    "    .map(function(line, Tuple2) {\n",
    "        var fields = line.split(\",\");\n",
    "        return new Tuple2(parseInt(fields[0]), fields[1]);\n",
    "    }, [Tuple2]).cache();\n",
    "\n",
    "var complete_movies_titles = complete_movies_data\n",
    "    .mapToPair(function( tuple2, Tuple2) { // Tuple2\n",
    "        return new Tuple2(tuple2._1(), tuple2._2());\n",
    "    }, [Tuple2]);\n",
    "\n",
    "JSON.stringify(\"There are movies in the complete dataset \" + complete_movies_titles.count());"
   ]
  },
  {
   "cell_type": "markdown",
   "metadata": {},
   "source": [
    "## Give recommendations of movies\n",
    "Another thing we want to do, is give recommendations\n",
    " of movies with a certain minimum number of ratings. For that, we need to count the number of ratings per movie.\n",
    " "
   ]
  },
  {
   "cell_type": "code",
   "execution_count": 11,
   "metadata": {
    "collapsed": false
   },
   "outputs": [
    {
     "name": "stdout",
     "output_type": "stream",
     "text": [
      "[Stage 634:====================================================>  (18 + 1) / 19]"
     ]
    },
    {
     "data": {
      "text/plain": [
       "\"movie_ID_with_avg_ratings_RDD  (7942,(170.0,3.6823529411764704)),(110637,(6.0,3.25)),(6308,(476.0,2.7941176470588234)),(101650,(3.0,3.5)),(912,(27819.0,4.2308853661166825)),(131556,(2.0,3.5)),(92169,(16.0,3.375)),(5814,(7.0,3.5)),(124013,(1.0,2.5)),(119567,(9.0,3.4444444444444446))\""
      ]
     },
     "execution_count": 11,
     "metadata": {},
     "output_type": "execute_result"
    }
   ],
   "source": [
    "\n",
    "var movie_ID_with_ratings_RDD = complete_ratings_data\n",
    "    .mapToPair(function( rating, Tuple2) {\n",
    "        return new Tuple2(rating.product(), rating.rating());\n",
    "    }, [Tuple2])\n",
    "    .groupByKey();\n",
    "\n",
    "var movie_ID_with_avg_ratings_RDD = movie_ID_with_ratings_RDD\n",
    "    .mapToPair(function( ID_and_ratings_tuple, Tuple2) {\n",
    "        var w = ID_and_ratings_tuple._2();\n",
    "        var count = 0;\n",
    "        var sum = 0;\n",
    "        for (var i = 0; i < w.length; i++) {\n",
    "            var r = w[i];\n",
    "            sum += r;\n",
    "            count++;\n",
    "        }\n",
    "\n",
    "        var avgRating = sum / count;\n",
    "        return new Tuple2(ID_and_ratings_tuple._1(), new Tuple2(count, avgRating));\n",
    "\n",
    "    }, [Tuple2]);\n",
    "\n",
    "var movie_rating_counts_RDD = movie_ID_with_avg_ratings_RDD\n",
    "    .mapToPair(function( ID_with_avg_ratings, Tuple2) {\n",
    "        return new Tuple2(ID_with_avg_ratings._1(), ID_with_avg_ratings._2()._1()); // movieID, rating count\n",
    "    }, [Tuple2]);\n",
    "\n",
    "JSON.stringify(\"movie_ID_with_avg_ratings_RDD  \" + movie_ID_with_avg_ratings_RDD.take(10));"
   ]
  },
  {
   "cell_type": "markdown",
   "metadata": {},
   "source": [
    "## Rate some movies for the new user."
   ]
  },
  {
   "cell_type": "code",
   "execution_count": 12,
   "metadata": {
    "collapsed": false
   },
   "outputs": [
    {
     "data": {
      "text/plain": [
       "\"New user ratings: (0,260,9.0),(0,1,8.0),(0,16,7.0),(0,25,8.0),(0,32,9.0),(0,335,4.0),(0,379,3.0),(0,296,7.0),(0,858,10.0),(0,50,8.0)\""
      ]
     },
     "execution_count": 12,
     "metadata": {},
     "output_type": "execute_result"
    }
   ],
   "source": [
    "\n",
    "var new_user_ID = 0;\n",
    "\n",
    "// The format of each line is (userID, movieID, rating)\n",
    "var new_user_ratings = [\n",
    "    new Rating(0, 260, 9), // Star Wars (1977)\n",
    "    new Rating(0, 1, 8), // Toy Story (1995)\n",
    "    new Rating(0, 16, 7), // Casino (1995)\n",
    "    new Rating(0, 25, 8), // Leaving Las Vegas (1995)\n",
    "    new Rating(0, 32, 9), // Twelve Monkeys (a.k.a. 12 Monkeys) (1995)\n",
    "    new Rating(0, 335, 4), // Flintstones, The (1994)\n",
    "    new Rating(0, 379, 3), // Timecop (1994)\n",
    "    new Rating(0, 296, 7), // Pulp Fiction (1994)\n",
    "    new Rating(0, 858, 10), // Godfather, The (1972)\n",
    "    new Rating(0, 50, 8) // Usual Suspects, The (1995)\n",
    "];\n",
    "var new_user_ratings_RDD = sc.parallelize(new_user_ratings);\n",
    "JSON.stringify(\"New user ratings: \" + new_user_ratings_RDD.take(10));"
   ]
  },
  {
   "cell_type": "markdown",
   "metadata": {},
   "source": [
    "## Add them to the data we will use to train our recommender model."
   ]
  },
  {
   "cell_type": "code",
   "execution_count": 14,
   "metadata": {
    "collapsed": false
   },
   "outputs": [
    {
     "name": "stdout",
     "output_type": "stream",
     "text": [
      "[Stage 966:>                                                       (0 + 0) / 13]"
     ]
    },
    {
     "data": {
      "text/plain": [
       "new_user_recommendations_rating_title_and_count_RDD 33660"
      ]
     },
     "execution_count": 14,
     "metadata": {},
     "output_type": "execute_result"
    }
   ],
   "source": [
    "\n",
    "var complete_data_with_new_ratings_RDD = complete_ratings_data.union(new_user_ratings_RDD);\n",
    "\n",
    "\n",
    "var new_ratings_model = \n",
    "    ALS.train(complete_data_with_new_ratings_RDD, best_rank, \n",
    "              iterations, regularization_parameter, blocks, seed);\n",
    "\n",
    "/*\n",
    " Let's now get some recommendations\n",
    " */\n",
    "\n",
    "//  get just movie IDs\n",
    "var new_user_ratings_ids = [];\n",
    "for (var i = 0; i < new_user_ratings.length; i++) {\n",
    "    new_user_ratings_ids.push(new_user_ratings[i].product());\n",
    "}\n",
    "\n",
    "// keep just those not on the ID list\n",
    "var new_user_unrated_movies_RDD = complete_movies_data.filter(function( tuple, new_user_ratings_ids) {\n",
    "        if (new_user_ratings_ids.indexOf(tuple._1()) < 0) {\n",
    "            return true;\n",
    "        } else {\n",
    "            return false;\n",
    "        }\n",
    "}, [new_user_ratings_ids])\n",
    ".map(function( tuple, new_user_ID, Tuple2) {\n",
    "        return new Tuple2(new_user_ID, tuple._1());\n",
    "}, [new_user_ID, Tuple2]);\n",
    "// Use the input RDD, new_user_unrated_movies_RDD, \n",
    "//with new_ratings_model.predictAll() to predict new ratings for the movies\n",
    "var new_user_recommendations_RDD = new_ratings_model.predict(new_user_unrated_movies_RDD);\n",
    "\n",
    "// Transform new_user_recommendations_RDD into pairs of the form (Movie ID, Predicted Rating)\n",
    "var new_user_recommendations_rating_RDD = new_user_recommendations_RDD.mapToPair( function( rating, Tuple2) {\n",
    "        return new Tuple2(rating.product(), rating.rating());\n",
    "}, [Tuple2]);\n",
    "\n",
    "var new_user_recommendations_rating_title_and_count_RDD = new_user_recommendations_rating_RDD\n",
    "    .join(complete_movies_titles)\n",
    "    .join(movie_rating_counts_RDD);\n",
    "\n",
    "\"new_user_recommendations_rating_title_and_count_RDD \" + new_user_recommendations_rating_title_and_count_RDD.count();"
   ]
  },
  {
   "cell_type": "markdown",
   "metadata": {},
   "source": [
    "## Flatten the RDD\n",
    "we need to flat this down a bit in order to have (Title, Rating, Ratings Count)."
   ]
  },
  {
   "cell_type": "code",
   "execution_count": 15,
   "metadata": {
    "collapsed": false
   },
   "outputs": [
    {
     "data": {
      "text/plain": [
       "new_user_recommendations_rating_title_and_count_RDD2[{\"0\":\"Careful What You Wish For (2015)\",\"1\":5.222424666765654,\"2\":7,\"length\":3},{\"0\":\"Two Sons of Francisco (2 Filhos de Francisco - A História de Zezé di Camargo & Luciano) (2005)\",\"1\":6.6160218323384905,\"2\":23,\"length\":3},{\"0\":\"Ricky Rapper (Risto Räppääjä) (2008)\",\"1\":4.128729437836526,\"2\":7,\"length\":3}]"
      ]
     },
     "execution_count": 15,
     "metadata": {},
     "output_type": "execute_result"
    }
   ],
   "source": [
    "\n",
    "var new_user_recommendations_rating_title_and_count_RDD2 =\n",
    "    new_user_recommendations_rating_title_and_count_RDD.map(function( t, Tuple3) {\n",
    "        var x = new Tuple3(t._2()._1()._2(), t._2()._1()._1(), t._2()._2());\n",
    "        return x;\n",
    "}, [Tuple3]);\n",
    "\"count\" + new_user_recommendations_rating_title_and_count_RDD2.count();\n",
    "\"new_user_recommendations_rating_title_and_count_RDD2\" + \n",
    "        JSON.stringify(new_user_recommendations_rating_title_and_count_RDD2.take(3));\n"
   ]
  },
  {
   "cell_type": "markdown",
   "metadata": {},
   "source": [
    "## Get highest rated recommendations\n",
    " Finally, get the highest rated recommendations for the new user, filtering out movies with less than 25 ratings."
   ]
  },
  {
   "cell_type": "code",
   "execution_count": 16,
   "metadata": {
    "collapsed": false
   },
   "outputs": [
    {
     "name": "stdout",
     "output_type": "stream",
     "text": [
      "[Stage 1131:=================================>                     (8 + 5) / 13]"
     ]
    },
    {
     "data": {
      "text/plain": [
       "TOP recommended movies (with more than 25 reviews):\n",
       "\n",
       "The Blue Planet (2001) average rating 9.076085688808853 number of ratings 30\n",
       "Frozen Planet (2011) average rating 8.966726339057029 number of ratings 162\n",
       "The War (2007) average rating 8.910137144588834 number of ratings 30\n",
       "Voices from the List (2004) average rating 8.70521888583295 number of ratings 1345\n",
       "\"Shawshank Redemption average rating 8.704880792829329 number of ratings 77887\n",
       "Dylan Moran Live: What It Is (2009) average rating 8.664641734407988 number of ratings 51\n",
       "Drained (O cheiro do Ralo) (2006) average rating 8.6529277181901 number of ratings 25\n",
       "Olive Kitteridge (2014) average rating 8.620473516551247 number of ratings 92\n",
       "Schindler's List (1993) average rating 8.617846942059193 number of ratings 59857\n",
       "Band of Brothers (2001) average rating 8.551963562990487 number of ratings 6522\n",
       "\"House of Small Cubes average rating 8.544700678600556 number of ratings 62\n",
       "\"Lives of Others average rating 8.529461018063706 number of ratings 7435\n",
       "Heimat - A Chronicle of Germany (Heimat - Eine deutsche Chronik) (1984) average rating 8.524605887612937 number of ratings 28\n",
       "\"Godfather: Part II average rating 8.471750846747838 number of ratings 32247\n",
       "Eu Não Quero Voltar Sozinho (I Don't Want to Go Back Alone) (2010) average rating 8.46943856070467 number of ratings 31\n",
       "Cosmos (1980) average rating 8.455162329388735 number of ratings 1554\n",
       "Bogowie (2014) average rating 8.453356030487553 number of ratings 29\n",
       "\"Best of Youth average rating 8.450744130568072 number of ratings 483\n",
       "The Amazing Screw-On Head (2006) average rating 8.441967267741088 number of ratings 29\n",
       "\"Civil War average rating 8.440163154558944 number of ratings 347\n",
       "One Flew Over the Cuckoo's Nest (1975) average rating 8.39038818030658 number of ratings 35832\n",
       "Wild China (2008) average rating 8.386426009207781 number of ratings 71\n",
       "Life Is Beautiful (La Vita è bella) (1997) average rating 8.374459342178778 number of ratings 21634\n",
       "\"Amelie (Fabuleux destin d'Amélie Poulain average rating 8.37093710980155 number of ratings 29005\n",
       "\"Dylan Moran: Yeah average rating 8.350755962652645 number of ratings 52\n"
      ]
     },
     "execution_count": 16,
     "metadata": {},
     "output_type": "execute_result"
    }
   ],
   "source": [
    "\n",
    "var new_user_recommendations_rating_title_and_count_RDD2_filtered =\n",
    "    new_user_recommendations_rating_title_and_count_RDD2.filter(function( tuple3) {\n",
    "        if (tuple3._3() < 25) {\n",
    "            return false;\n",
    "        } else {\n",
    "            return true;\n",
    "        }\n",
    "    });\n",
    "\n",
    "/*\n",
    "list top 25\n",
    " */\n",
    "\n",
    "var top_movies = new_user_recommendations_rating_title_and_count_RDD2_filtered.takeOrdered(25,\n",
    "   function(tuple3_a, tuple3_b){\n",
    "        var aRate = tuple3_a._2();\n",
    "        var bRate = tuple3_b._2();\n",
    "        return aRate > bRate ? -1 : aRate == bRate? 0 : 1;\n",
    "\n",
    "});\n",
    "\n",
    "var str = \"TOP recommended movies (with more than 25 reviews):\\n\\n\";\n",
    "\n",
    "for (var i = 0; i < top_movies.length; i++) {\n",
    "    str += top_movies[i]._1() + \" average rating \" + \n",
    "    top_movies[i]._2() + \" number of ratings \" + top_movies[i]._3() + \"\\n\";\n",
    "}\n",
    "\n",
    "\n"
   ]
  },
  {
   "cell_type": "markdown",
   "metadata": {},
   "source": [
    "## Predicted rating for a particular movie for a given user."
   ]
  },
  {
   "cell_type": "code",
   "execution_count": 17,
   "metadata": {
    "collapsed": false
   },
   "outputs": [
    {
     "data": {
      "text/plain": [
       "Predicted rating for movie (0,500,5.7011845091042765)"
      ]
     },
     "execution_count": 17,
     "metadata": {},
     "output_type": "execute_result"
    }
   ],
   "source": [
    "\n",
    "var my_movie = sc.parallelizePairs([new Tuple2(0, 500)]); // Quiz Show (1994)\n",
    "var individual_movie_rating_RDD = new_ratings_model.predict(my_movie);\n",
    "\n",
    "\"Predicted rating for movie \" + individual_movie_rating_RDD.take(1);"
   ]
  },
  {
   "cell_type": "code",
   "execution_count": null,
   "metadata": {
    "collapsed": true
   },
   "outputs": [],
   "source": []
  }
 ],
 "metadata": {
  "kernelspec": {
   "display_name": "Spark 1.6.0 (EclairJS)",
   "language": "javascript",
   "name": "eclair"
  },
  "language_info": {
   "name": "scala"
  }
 },
 "nbformat": 4,
 "nbformat_minor": 0
}
