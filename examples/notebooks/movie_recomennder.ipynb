{
 "cells": [
  {
   "cell_type": "markdown",
   "metadata": {},
   "source": [
    "# Movie recommder example\n",
    "this example is a EclairJS (JavaScript) implementation of [movie recommending](https://github.com/jadianes/spark-movie-lens/blob/master/notebooks/building-recommender.ipynb). \n",
    "#### This notebook requires the following additional setup\n",
    "* Download the [movieLens rating dataset](http://grouplens.org/datasets/movielens/) and unzip is a location that is\n",
    "    * [ml-latest-small.zip](http://files.grouplens.org/datasets/movielens/ml-latest-small.zip) \n",
    "    * [ml-latest.zip](http://files.grouplens.org/datasets/movielens/ml-latest.zip)  accessible by Spark.\n"
   ]
  },
  {
   "cell_type": "markdown",
   "metadata": {},
   "source": [
    "## Create the spark context and globals"
   ]
  },
  {
   "cell_type": "code",
   "execution_count": 1,
   "metadata": {
    "collapsed": false
   },
   "outputs": [],
   "source": [
    "var SparkContext = require('eclairjs/SparkContext');\n",
    "var SparkConf = require('eclairjs/SparkConf');\n",
    "var sparkConf = new SparkConf()\n",
    "    .set(\"spark.executor.memory\", \"10g\")\n",
    "    .set(\"spark.driver.memory\", \"6g\")\n",
    "    .setMaster(\"local[*]\")\n",
    "    .setAppName(\"movie_recommender\");\n",
    "var sc = new SparkContext(sparkConf);\n",
    "var Tuple2 = require('eclairjs/Tuple2');\n",
    "var Tuple3 = require('eclairjs/Tuple3');\n",
    "var ALS = require('eclairjs/mllib/recommendation/ALS');\n",
    "var Rating = require('eclairjs/mllib/recommendation/Rating');\n",
    "\n"
   ]
  },
  {
   "cell_type": "markdown",
   "metadata": {},
   "source": [
    "## Set the path to the movieLens Datasets\n"
   ]
  },
  {
   "cell_type": "code",
   "execution_count": 3,
   "metadata": {
    "collapsed": true
   },
   "outputs": [],
   "source": [
    "var pathToSmallDataset = '../data/mllib/ml-latest-small';\n",
    "var pathToCompleteDataset = '../data/mllib/ml-latest-small';"
   ]
  },
  {
   "cell_type": "markdown",
   "metadata": {},
   "source": [
    "## load the small rating dataset"
   ]
  },
  {
   "cell_type": "code",
   "execution_count": 4,
   "metadata": {
    "collapsed": false
   },
   "outputs": [
    {
     "data": {
      "text/plain": [
       "[{\"user\":1,\"product\":16,\"rating\":4},{\"user\":1,\"product\":24,\"rating\":1.5},{\"user\":1,\"product\":32,\"rating\":4}]"
      ]
     },
     "execution_count": 4,
     "metadata": {},
     "output_type": "execute_result"
    }
   ],
   "source": [
    "var small_ratings_raw_data = sc.textFile(pathToSmallDataset + '/ratings.csv');\n",
    "var small_ratings_raw_data_header = small_ratings_raw_data.take(1)[0];\n",
    "var small_ratings_data = small_ratings_raw_data\n",
    "    .filter(function(line, small_ratings_raw_data_header) {\n",
    "        // filters out the header\n",
    "        return line != small_ratings_raw_data_header;\n",
    "    }, [small_ratings_raw_data_header])\n",
    "    .map(function(line, Rating) {\n",
    "        var tokens = line.split(\",\");\n",
    "         return new Rating(tokens[0],tokens[1],tokens[2]);\n",
    "    },[Rating])\n",
    "    .cache();\n",
    "\n",
    "JSON.stringify(small_ratings_data.take(3));"
   ]
  },
  {
   "cell_type": "markdown",
   "metadata": {},
   "source": [
    "## load the small moving dataset"
   ]
  },
  {
   "cell_type": "code",
   "execution_count": 5,
   "metadata": {
    "collapsed": false
   },
   "outputs": [
    {
     "data": {
      "text/plain": [
       "[{\"0\":1,\"1\":\"Toy Story (1995)\",\"length\":2},{\"0\":2,\"1\":\"Jumanji (1995)\",\"length\":2},{\"0\":3,\"1\":\"Grumpier Old Men (1995)\",\"length\":2}]"
      ]
     },
     "execution_count": 5,
     "metadata": {},
     "output_type": "execute_result"
    }
   ],
   "source": [
    "var small_movies_raw_data = sc.textFile(pathToSmallDataset + '/movies.csv');\n",
    "var small_movies_raw_data_header = small_movies_raw_data.take(1)[0];\n",
    "var small_movies_data = small_movies_raw_data\n",
    "    .filter(function(line, small_movies_raw_data_header) {\n",
    "        // filters out the header\n",
    "        return line != small_movies_raw_data_header;\n",
    "    }, [small_movies_raw_data_header])\n",
    "    .map(function(line, Tuple2) {\n",
    "        var fields = line.split(\",\");\n",
    "        return new Tuple2(parseInt(fields[0]), fields[1]);\n",
    "    }, [Tuple2])\n",
    "    .cache();\n",
    "\n",
    "var small_movies_titles = small_movies_data\n",
    "    .mapToPair(function( tuple2, Tuple2) { // Tuple2\n",
    "        return new Tuple2(tuple2[0], tuple2[1]);\n",
    "    }, [Tuple2]);\n",
    "JSON.stringify(small_movies_data.take(3));"
   ]
  },
  {
   "cell_type": "markdown",
   "metadata": {},
   "source": [
    "## Selecting ALS parameters using the small dataset\n",
    "In order to determine the best ALS parameters, we will use the small dataset. We need first to split it into train, validation, and test datasets."
   ]
  },
  {
   "cell_type": "code",
   "execution_count": 6,
   "metadata": {
    "collapsed": false
   },
   "outputs": [
    {
     "data": {
      "text/plain": [
       "[{\"0\":1,\"1\":50,\"length\":2},{\"0\":1,\"1\":161,\"length\":2},{\"0\":1,\"1\":356,\"length\":2}]"
      ]
     },
     "execution_count": 6,
     "metadata": {},
     "output_type": "execute_result"
    }
   ],
   "source": [
    "var seed = 0;\n",
    "var split = small_ratings_data.randomSplit([0.6, 0.2, 0.2], seed)\n",
    "var training_RDD = split[0];\n",
    "var validation_RDD = split[1];\n",
    "var test_RDD = split[2];\n",
    "\n",
    "var  validation_for_predict_RDD = validation_RDD\n",
    "    .map(function(rating, Tuple2) {\n",
    "        return new Tuple2(rating.user(), rating.product());\n",
    "    }, [Tuple2]);\n",
    "JSON.stringify(validation_for_predict_RDD.take(3));"
   ]
  },
  {
   "cell_type": "markdown",
   "metadata": {},
   "source": [
    "## Proceed with the training phase."
   ]
  },
  {
   "cell_type": "code",
   "execution_count": 7,
   "metadata": {
    "collapsed": false
   },
   "outputs": [
    {
     "name": "stdout",
     "output_type": "stream",
     "text": [
      "\r",
      "[Stage 32:>                                                         (0 + 0) / 8]"
     ]
    },
    {
     "data": {
      "text/plain": [
       "The best model was trained with rank 4"
      ]
     },
     "execution_count": 7,
     "metadata": {},
     "output_type": "execute_result"
    }
   ],
   "source": [
    "seed = 5\n",
    "var iterations = 10\n",
    "var regularization_parameter = 0.1\n",
    "var ranks = [4, 8, 12];\n",
    "var errors = [0, 0, 0];\n",
    "var err = 0\n",
    "var tolerance = 0.02\n",
    "\n",
    "var min_error = Number.POSITIVE_INFINITY\n",
    "var best_rank = -1\n",
    "var best_iteration = -1\n",
    "var blocks = -1;\n",
    "var lambda = regularization_parameter;\n",
    "\n",
    "ranks.forEach(function(rank) {\n",
    "    var model = ALS.train(training_RDD, rank, iterations, regularization_parameter, blocks, seed);\n",
    "    var predictions = model.predict(validation_for_predict_RDD)\n",
    "        .mapToPair(function(rating, Tuple2) {\n",
    "            return new Tuple2(new Tuple2(rating.user(), rating.product()), rating.rating());\n",
    "        }, [Tuple2]);\n",
    "\n",
    "    var rates_and_preds = validation_RDD\n",
    "        .mapToPair(function(rating, Tuple2) {\n",
    "            return new Tuple2(new Tuple2(rating.user(), rating.product()), rating.rating());\n",
    "        }, [Tuple2])\n",
    "        .join(predictions);\n",
    "\n",
    "    var t = rates_and_preds\n",
    "        .mapToFloat(function(tuple) {\n",
    "            var y =tuple._2()._1() - tuple._2()._2();\n",
    "            return Math.pow(y, 2);\n",
    "        });\n",
    "    var error = Math.sqrt(t.mean());\n",
    "    errors[err] = error;\n",
    "    err += 1;\n",
    "    if (error < min_error) {\n",
    "        min_error = error;\n",
    "        best_rank = rank;\n",
    "    }\n",
    "\n",
    "});\n",
    "\n",
    "\"The best model was trained with rank \" +best_rank;"
   ]
  },
  {
   "cell_type": "markdown",
   "metadata": {},
   "source": [
    "## To build our recommender model, we will use the complete dataset."
   ]
  },
  {
   "cell_type": "code",
   "execution_count": 8,
   "metadata": {
    "collapsed": false
   },
   "outputs": [
    {
     "data": {
      "text/plain": [
       "\"There are recommendations in the complete dataset:  105339\""
      ]
     },
     "execution_count": 8,
     "metadata": {},
     "output_type": "execute_result"
    }
   ],
   "source": [
    "\n",
    "var complete_ratings_raw_data = \n",
    "    sc.textFile(pathToCompleteDataset + '/ratings.csv');\n",
    "var complete_ratings_raw_data_header = complete_ratings_raw_data.take(1)[0];\n",
    "\n",
    "var complete_ratings_data = complete_ratings_raw_data\n",
    "    .filter(function (line, complete_ratings_raw_data_header) {\n",
    "        return line != complete_ratings_raw_data_header;\n",
    "    }, [complete_ratings_raw_data_header])\n",
    "    .map(function( line, Rating) {\n",
    "        var fields = line.split(\",\");\n",
    "        var userId = parseInt(fields[0]);\n",
    "        var movieId = parseInt(fields[1]);\n",
    "        var rating = parseFloat(fields[2]);\n",
    "        return new Rating(userId, movieId, rating);\n",
    "    }, [Rating])\n",
    "    .cache();\n",
    "\n",
    "JSON.stringify(\"There are recommendations in the complete dataset:  \" + complete_ratings_data.count());"
   ]
  },
  {
   "cell_type": "markdown",
   "metadata": {},
   "source": [
    "## We test on our testing set."
   ]
  },
  {
   "cell_type": "code",
   "execution_count": 9,
   "metadata": {
    "collapsed": false
   },
   "outputs": [
    {
     "data": {
      "text/plain": [
       "\"For testing data the RMSE is 0.9066538818812507\""
      ]
     },
     "execution_count": 9,
     "metadata": {},
     "output_type": "execute_result"
    }
   ],
   "source": [
    "var splits2 = complete_ratings_data.randomSplit([0.7, 0.3], 0);\n",
    "training_RDD = splits2[0];\n",
    "test_RDD = splits2[1];\n",
    "\n",
    "var complete_model = ALS.train(training_RDD, best_rank, iterations, regularization_parameter, blocks, seed);\n",
    "\n",
    "var test_for_predict_RDD = test_RDD\n",
    "    .map(function (rating, Tuple2) {\n",
    "        return new Tuple2(rating.user(), rating.product());\n",
    "    }, [Tuple2]);\n",
    "\n",
    "var predictions = complete_model.predict(test_for_predict_RDD)\n",
    "    .mapToPair(function( rating, Tuple2) {\n",
    "        return new Tuple2(new Tuple2(rating.user(), rating.product()), rating.rating());\n",
    "    }, [Tuple2]);\n",
    "\n",
    "var rates_and_preds = test_RDD\n",
    "    .mapToPair(function( rating, Tuple2) {\n",
    "        return new Tuple2(new Tuple2(rating.user(), rating.product()), rating.rating());\n",
    "    }, [Tuple2])\n",
    "    .join(predictions);\n",
    "\n",
    "var t = rates_and_preds\n",
    "    .mapToFloat( function( x) {\n",
    "        return Math.pow(x._2()._1() - x._2()._2(), 2);\n",
    "    });\n",
    "var error = Math.sqrt(t.mean());\n",
    "JSON.stringify(\"For testing data the RMSE is \" + error);"
   ]
  },
  {
   "cell_type": "markdown",
   "metadata": {},
   "source": [
    "## How to make recommendations\n",
    " So let's first load the movies complete file for later use."
   ]
  },
  {
   "cell_type": "code",
   "execution_count": 10,
   "metadata": {
    "collapsed": false
   },
   "outputs": [
    {
     "data": {
      "text/plain": [
       "\"There are movies in the complete dataset 10329\""
      ]
     },
     "execution_count": 10,
     "metadata": {},
     "output_type": "execute_result"
    }
   ],
   "source": [
    "\n",
    "var complete_movies_raw_data = \n",
    "    sc.textFile(pathToCompleteDataset + '/movies.csv');\n",
    "var complete_movies_raw_data_header = complete_movies_raw_data.take(1)[0];\n",
    "var complete_movies_data = complete_movies_raw_data\n",
    "    .filter(function(line, complete_movies_raw_data_header) {\n",
    "        // filters out the header\n",
    "        return line != complete_movies_raw_data_header;\n",
    "    }, [complete_movies_raw_data_header])\n",
    "    .map(function(line, Tuple2) {\n",
    "        var fields = line.split(\",\");\n",
    "        return new Tuple2(parseInt(fields[0]), fields[1]);\n",
    "    }, [Tuple2]).cache();\n",
    "\n",
    "var complete_movies_titles = complete_movies_data\n",
    "    .mapToPair(function( tuple2, Tuple2) { // Tuple2\n",
    "        return new Tuple2(tuple2._1(), tuple2._2());\n",
    "    }, [Tuple2]);\n",
    "\n",
    "JSON.stringify(\"There are movies in the complete dataset \" + complete_movies_titles.count());"
   ]
  },
  {
   "cell_type": "markdown",
   "metadata": {},
   "source": [
    "## Give recommendations of movies\n",
    "Another thing we want to do, is give recommendations\n",
    " of movies with a certain minimum number of ratings. For that, we need to count the number of ratings per movie.\n",
    " "
   ]
  },
  {
   "cell_type": "code",
   "execution_count": 11,
   "metadata": {
    "collapsed": false
   },
   "outputs": [
    {
     "data": {
      "text/plain": [
       "\"movie_ID_with_avg_ratings_RDD  (1084,(45.0,3.966666666666667)),(32196,(2.0,4.0)),(1490,(1.0,0.5)),(91902,(1.0,3.0)),(68522,(1.0,5.0)),(3702,(43.0,3.5348837209302326)),(6754,(26.0,3.4423076923076925)),(68482,(1.0,2.5)),(6308,(4.0,3.0)),(91622,(3.0,3.3333333333333335))\""
      ]
     },
     "execution_count": 11,
     "metadata": {},
     "output_type": "execute_result"
    }
   ],
   "source": [
    "\n",
    "var movie_ID_with_ratings_RDD = complete_ratings_data\n",
    "    .mapToPair(function( rating, Tuple2) {\n",
    "        return new Tuple2(rating.product(), rating.rating());\n",
    "    }, [Tuple2])\n",
    "    .groupByKey();\n",
    "\n",
    "var movie_ID_with_avg_ratings_RDD = movie_ID_with_ratings_RDD\n",
    "    .mapToPair(function( ID_and_ratings_tuple, Tuple2) {\n",
    "        var w = ID_and_ratings_tuple._2();\n",
    "        var count = 0;\n",
    "        var sum = 0;\n",
    "        for (var i = 0; i < w.length; i++) {\n",
    "            var r = w[i];\n",
    "            sum += r;\n",
    "            count++;\n",
    "        }\n",
    "\n",
    "        var avgRating = sum / count;\n",
    "        return new Tuple2(ID_and_ratings_tuple._1(), new Tuple2(count, avgRating));\n",
    "\n",
    "    }, [Tuple2]);\n",
    "\n",
    "var movie_rating_counts_RDD = movie_ID_with_avg_ratings_RDD\n",
    "    .mapToPair(function( ID_with_avg_ratings, Tuple2) {\n",
    "        return new Tuple2(ID_with_avg_ratings._1(), ID_with_avg_ratings._2()._1()); // movieID, rating count\n",
    "    }, [Tuple2]);\n",
    "\n",
    "JSON.stringify(\"movie_ID_with_avg_ratings_RDD  \" + movie_ID_with_avg_ratings_RDD.take(10));"
   ]
  },
  {
   "cell_type": "markdown",
   "metadata": {},
   "source": [
    "## Rate some movies for the new user."
   ]
  },
  {
   "cell_type": "code",
   "execution_count": 12,
   "metadata": {
    "collapsed": false
   },
   "outputs": [
    {
     "data": {
      "text/plain": [
       "\"New user ratings: (0,260,9.0),(0,1,8.0),(0,16,7.0),(0,25,8.0),(0,32,9.0),(0,335,4.0),(0,379,3.0),(0,296,7.0),(0,858,10.0),(0,50,8.0)\""
      ]
     },
     "execution_count": 12,
     "metadata": {},
     "output_type": "execute_result"
    }
   ],
   "source": [
    "\n",
    "var new_user_ID = 0;\n",
    "\n",
    "// The format of each line is (userID, movieID, rating)\n",
    "var new_user_ratings = [\n",
    "    new Rating(0, 260, 9), // Star Wars (1977)\n",
    "    new Rating(0, 1, 8), // Toy Story (1995)\n",
    "    new Rating(0, 16, 7), // Casino (1995)\n",
    "    new Rating(0, 25, 8), // Leaving Las Vegas (1995)\n",
    "    new Rating(0, 32, 9), // Twelve Monkeys (a.k.a. 12 Monkeys) (1995)\n",
    "    new Rating(0, 335, 4), // Flintstones, The (1994)\n",
    "    new Rating(0, 379, 3), // Timecop (1994)\n",
    "    new Rating(0, 296, 7), // Pulp Fiction (1994)\n",
    "    new Rating(0, 858, 10), // Godfather, The (1972)\n",
    "    new Rating(0, 50, 8) // Usual Suspects, The (1995)\n",
    "];\n",
    "var new_user_ratings_RDD = sc.parallelize(new_user_ratings);\n",
    "JSON.stringify(\"New user ratings: \" + new_user_ratings_RDD.take(10));"
   ]
  },
  {
   "cell_type": "markdown",
   "metadata": {},
   "source": [
    "## Add them to the data we will use to train our recommender model."
   ]
  },
  {
   "cell_type": "code",
   "execution_count": 13,
   "metadata": {
    "collapsed": false
   },
   "outputs": [
    {
     "data": {
      "text/plain": [
       "new_user_recommendations_rating_title_and_count_RDD 10315"
      ]
     },
     "execution_count": 13,
     "metadata": {},
     "output_type": "execute_result"
    }
   ],
   "source": [
    "\n",
    "var complete_data_with_new_ratings_RDD = complete_ratings_data.union(new_user_ratings_RDD);\n",
    "\n",
    "\n",
    "var new_ratings_model = \n",
    "    ALS.train(complete_data_with_new_ratings_RDD, best_rank, \n",
    "              iterations, regularization_parameter, blocks, seed);\n",
    "\n",
    "/*\n",
    " Let's now get some recommendations\n",
    " */\n",
    "\n",
    "//  get just movie IDs\n",
    "var new_user_ratings_ids = [];\n",
    "for (var i = 0; i < new_user_ratings.length; i++) {\n",
    "    new_user_ratings_ids.push(new_user_ratings[i].product());\n",
    "}\n",
    "\n",
    "// keep just those not on the ID list\n",
    "var new_user_unrated_movies_RDD = complete_movies_data.filter(function( tuple, new_user_ratings_ids) {\n",
    "        if (new_user_ratings_ids.indexOf(tuple._1()) < 0) {\n",
    "            return true;\n",
    "        } else {\n",
    "            return false;\n",
    "        }\n",
    "}, [new_user_ratings_ids])\n",
    ".map(function( tuple, new_user_ID, Tuple2) {\n",
    "        return new Tuple2(new_user_ID, tuple._1());\n",
    "}, [new_user_ID, Tuple2]);\n",
    "// Use the input RDD, new_user_unrated_movies_RDD, \n",
    "//with new_ratings_model.predictAll() to predict new ratings for the movies\n",
    "var new_user_recommendations_RDD = new_ratings_model.predict(new_user_unrated_movies_RDD);\n",
    "\n",
    "// Transform new_user_recommendations_RDD into pairs of the form (Movie ID, Predicted Rating)\n",
    "var new_user_recommendations_rating_RDD = new_user_recommendations_RDD.mapToPair( function( rating, Tuple2) {\n",
    "        return new Tuple2(rating.product(), rating.rating());\n",
    "}, [Tuple2]);\n",
    "\n",
    "var new_user_recommendations_rating_title_and_count_RDD = new_user_recommendations_rating_RDD\n",
    "    .join(complete_movies_titles)\n",
    "    .join(movie_rating_counts_RDD);\n",
    "\n",
    "\"new_user_recommendations_rating_title_and_count_RDD \" + new_user_recommendations_rating_title_and_count_RDD.count();"
   ]
  },
  {
   "cell_type": "markdown",
   "metadata": {},
   "source": [
    "## Flatten the RDD\n",
    "we need to flat this down a bit in order to have (Title, Rating, Ratings Count)."
   ]
  },
  {
   "cell_type": "code",
   "execution_count": 14,
   "metadata": {
    "collapsed": false
   },
   "outputs": [
    {
     "data": {
      "text/plain": [
       "new_user_recommendations_rating_title_and_count_RDD2[{\"0\":\"Shackleton's Antarctic Adventure (2001)\",\"1\":7.553736917670094,\"2\":1,\"length\":3},{\"0\":\"\\\"Call of Cthulhu\",\"1\":8.860291348428946,\"2\":2,\"length\":3},{\"0\":\"RV (2006)\",\"1\":2.476218985783453,\"2\":4,\"length\":3}]"
      ]
     },
     "execution_count": 14,
     "metadata": {},
     "output_type": "execute_result"
    }
   ],
   "source": [
    "\n",
    "var new_user_recommendations_rating_title_and_count_RDD2 =\n",
    "    new_user_recommendations_rating_title_and_count_RDD.map(function( t, Tuple3) {\n",
    "        var x = new Tuple3(t._2()._1()._2(), t._2()._1()._1(), t._2()._2());\n",
    "        return x;\n",
    "}, [Tuple3]);\n",
    "\"count\" + new_user_recommendations_rating_title_and_count_RDD2.count();\n",
    "\"new_user_recommendations_rating_title_and_count_RDD2\" + \n",
    "        JSON.stringify(new_user_recommendations_rating_title_and_count_RDD2.take(3));\n"
   ]
  },
  {
   "cell_type": "markdown",
   "metadata": {},
   "source": [
    "## Get highest rated recommendations\n",
    " Finally, get the highest rated recommendations for the new user, filtering out movies with less than 25 ratings."
   ]
  },
  {
   "cell_type": "code",
   "execution_count": 15,
   "metadata": {
    "collapsed": false
   },
   "outputs": [
    {
     "name": "stdout",
     "output_type": "stream",
     "text": [
      "\r",
      "[Stage 990:==============>                                          (2 + 6) / 8]"
     ]
    },
    {
     "data": {
      "text/plain": [
       "TOP recommended movies (with more than 25 reviews):\n",
       "\n",
       "Being There (1979) average rating 8.628200481841834 number of ratings 26\n",
       "Annie Hall (1977) average rating 8.546276091351059 number of ratings 68\n",
       "My Neighbor Totoro (Tonari no Totoro) (1988) average rating 8.519469203967729 number of ratings 28\n",
       "Citizen Kane (1941) average rating 8.496776961299442 number of ratings 77\n",
       "Cinema Paradiso (Nuovo cinema Paradiso) (1989) average rating 8.440391886714995 number of ratings 37\n",
       "All About Eve (1950) average rating 8.42478972179922 number of ratings 27\n",
       "Princess Mononoke (Mononoke-hime) (1997) average rating 8.42020502325419 number of ratings 52\n",
       "Manhattan (1979) average rating 8.400647804793403 number of ratings 40\n",
       "Ran (1985) average rating 8.369219421907811 number of ratings 31\n",
       "Spirited Away (Sen to Chihiro no kamikakushi) (2001) average rating 8.367017216556984 number of ratings 72\n",
       "Lone Star (1996) average rating 8.313256584773576 number of ratings 35\n",
       "Monty Python and the Holy Grail (1975) average rating 8.310843186811322 number of ratings 154\n",
       "Old Boy (2003) average rating 8.310831456431455 number of ratings 38\n",
       "Band of Brothers (2001) average rating 8.294547580780362 number of ratings 26\n",
       "One Flew Over the Cuckoo's Nest (1975) average rating 8.2834222602241 number of ratings 143\n",
       "Goodfellas (1990) average rating 8.282319190627655 number of ratings 135\n",
       "\"Sting average rating 8.2696152337938 number of ratings 77\n",
       "Fargo (1996) average rating 8.268114373240525 number of ratings 201\n",
       "Rear Window (1954) average rating 8.26193105355311 number of ratings 74\n",
       "Up (2009) average rating 8.256685003489332 number of ratings 62\n",
       "Sunset Blvd. (a.k.a. Sunset Boulevard) (1950) average rating 8.245400319453282 number of ratings 29\n",
       "Harold and Maude (1971) average rating 8.229893025284042 number of ratings 33\n",
       "\"Departed average rating 8.228682614639016 number of ratings 87\n",
       "12 Angry Men (1957) average rating 8.214880043481715 number of ratings 63\n",
       "Into the Wild (2007) average rating 8.212655662767194 number of ratings 32\n"
      ]
     },
     "execution_count": 15,
     "metadata": {},
     "output_type": "execute_result"
    }
   ],
   "source": [
    "\n",
    "var new_user_recommendations_rating_title_and_count_RDD2_filtered =\n",
    "    new_user_recommendations_rating_title_and_count_RDD2.filter(function( tuple3) {\n",
    "        if (tuple3._3() < 25) {\n",
    "            return false;\n",
    "        } else {\n",
    "            return true;\n",
    "        }\n",
    "    });\n",
    "\n",
    "/*\n",
    "list top 25\n",
    " */\n",
    "\n",
    "var top_movies = new_user_recommendations_rating_title_and_count_RDD2_filtered.takeOrdered(25,\n",
    "   function(tuple3_a, tuple3_b){\n",
    "        var aRate = tuple3_a._2();\n",
    "        var bRate = tuple3_b._2();\n",
    "        return aRate > bRate ? -1 : aRate == bRate? 0 : 1;\n",
    "\n",
    "});\n",
    "\n",
    "var str = \"TOP recommended movies (with more than 25 reviews):\\n\\n\";\n",
    "\n",
    "for (var i = 0; i < top_movies.length; i++) {\n",
    "    str += top_movies[i]._1() + \" average rating \" + \n",
    "    top_movies[i]._2() + \" number of ratings \" + top_movies[i]._3() + \"\\n\";\n",
    "}\n",
    "\n",
    "\n"
   ]
  },
  {
   "cell_type": "markdown",
   "metadata": {},
   "source": [
    "## Look up movie Title from ID\n"
   ]
  },
  {
   "cell_type": "code",
   "execution_count": 34,
   "metadata": {
    "collapsed": false
   },
   "outputs": [
    {
     "data": {
      "text/plain": [
       "[{\"values\":[1,\"Toy Story (1995)\"],\"schema\":{\"fields\":[{\"name\":\"id\",\"dataType\":\"integer\",\"nullable\":true},{\"name\":\"title\",\"dataType\":\"string\",\"nullable\":true}]}}]"
      ]
     },
     "execution_count": 34,
     "metadata": {},
     "output_type": "execute_result"
    }
   ],
   "source": [
    "var DataTypes = require('eclairjs/sql/types/DataTypes');\n",
    "var RowFactory = require('eclairjs/sql/RowFactory');\n",
    "var SQLContext = require('eclairjs/sql/SQLContext');\n",
    "var movieID = \"1\";\n",
    " //Generate the schema\n",
    "var sqlContext = new SQLContext(sc);\n",
    "var fields = [];\n",
    "fields.push(DataTypes.createStructField(\"id\", DataTypes.IntegerType, true));\n",
    "fields.push(DataTypes.createStructField(\"title\", DataTypes.StringType, true));\n",
    "    \n",
    "var schema = DataTypes.createStructType(fields);\n",
    "var rowRDD = complete_movies_data.map(function (tuple2, RowFactory) {\n",
    "    return RowFactory.create([tuple2._1(), tuple2._2()]);\n",
    "}, [RowFactory]);\n",
    "\n",
    "//Apply the schema to the RDD.\n",
    "var complete_movies_titlesDF = sqlContext.createDataFrame(rowRDD, schema);\n",
    "var col = complete_movies_titlesDF.col(\"id\");\n",
    "//var col2 = complete_movies_titlesDF.col(\"title\");\n",
    "var testCol = col.equalTo(movieID);\n",
    "var result = complete_movies_titlesDF.filter(testCol).collect();\n",
    "\n",
    "JSON.stringify(result);\n"
   ]
  },
  {
   "cell_type": "markdown",
   "metadata": {},
   "source": [
    "## Lookup movie id from title"
   ]
  },
  {
   "cell_type": "code",
   "execution_count": 39,
   "metadata": {
    "collapsed": false
   },
   "outputs": [
    {
     "data": {
      "text/plain": [
       "[{\"values\":[1,\"Toy Story (1995)\"],\"schema\":{\"fields\":[{\"name\":\"id\",\"dataType\":\"integer\",\"nullable\":true},{\"name\":\"title\",\"dataType\":\"string\",\"nullable\":true}]}},{\"values\":[3114,\"Toy Story 2 (1999)\"],\"schema\":{\"fields\":[{\"name\":\"id\",\"dataType\":\"integer\",\"nullable\":true},{\"name\":\"title\",\"dataType\":\"string\",\"nullable\":true}]}},{\"values\":[78499,\"Toy Story 3 (2010)\"],\"schema\":{\"fields\":[{\"name\":\"id\",\"dataType\":\"integer\",\"nullable\":true},{\"name\":\"title\",\"dataType\":\"string\",\"nullable\":true}]}}]"
      ]
     },
     "execution_count": 39,
     "metadata": {},
     "output_type": "execute_result"
    }
   ],
   "source": [
    "var movieTitle = \"Toy Story\";\n",
    "//var col = complete_movies_titlesDF.col(\"id\");\n",
    "var col2 = complete_movies_titlesDF.col(\"title\");\n",
    "var testCol = col2.contains(movieTitle);\n",
    "var result = complete_movies_titlesDF.filter(testCol).collect();\n",
    "\n",
    "JSON.stringify(result);\n"
   ]
  },
  {
   "cell_type": "markdown",
   "metadata": {},
   "source": [
    "## Predicted rating for a particular movie for a given user."
   ]
  },
  {
   "cell_type": "code",
   "execution_count": 17,
   "metadata": {
    "collapsed": false
   },
   "outputs": [
    {
     "data": {
      "text/plain": [
       "Predicted rating for movie (0,500,5.7011845091042765)"
      ]
     },
     "execution_count": 17,
     "metadata": {},
     "output_type": "execute_result"
    }
   ],
   "source": [
    "\n",
    "var my_movie = sc.parallelizePairs([new Tuple2(0, 500)]); // Quiz Show (1994)\n",
    "var individual_movie_rating_RDD = new_ratings_model.predict(my_movie);\n",
    "\n",
    "\"Predicted rating for movie \" + individual_movie_rating_RDD.take(1);"
   ]
  },
  {
   "cell_type": "code",
   "execution_count": null,
   "metadata": {
    "collapsed": true
   },
   "outputs": [],
   "source": []
  }
 ],
 "metadata": {
  "kernelspec": {
   "display_name": "Spark 1.6.0 (EclairJS)",
   "language": "javascript",
   "name": "eclair"
  },
  "language_info": {
   "name": "scala"
  }
 },
 "nbformat": 4,
 "nbformat_minor": 0
}
